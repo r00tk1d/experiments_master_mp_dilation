{
 "cells": [
  {
   "attachments": {},
   "cell_type": "markdown",
   "metadata": {},
   "source": [
    "# Chain (directional trend) # \n",
    "Every pair of consecutive subsequences in a chain must be connected by both a forward arrow and a backward arrow. The key component of drifting is that the time series must contain chains with clear directionality\n",
    "\n",
    "Stumpy Tutorial Time Series Chains:\n",
    "https://stumpy.readthedocs.io/en/latest/Tutorial_Time_Series_Chains.html\n",
    "\n",
    "Matrix Profile VII: Time Series Chains Calibration Instruction:\n",
    "https://docs.google.com/presentation/d/1-jEynFIkjDR88QFtbHN2Iz8DXY8wMVet/edit#slide=id.p1\n",
    "\n",
    "Robust Time Series Chain Discovery with Incremental Nearest Neighbors:\n",
    "https://sites.google.com/view/robust-time-series-chain-22 "
   ]
  },
  {
   "cell_type": "code",
   "execution_count": 1,
   "metadata": {},
   "outputs": [],
   "source": [
    "import core.testdata as testdata\n",
    "import core.utils as utils\n",
    "import core.calculate as calculate\n",
    "import core.visualize as visualize\n",
    "import core.results as results\n",
    "\n",
    "import pandas as pd"
   ]
  },
  {
   "attachments": {},
   "cell_type": "markdown",
   "metadata": {},
   "source": [
    "## Chain Robustness with Ranking (Robustness Paper) ##\n",
    "\n",
    "recall and precision: hits are with overlap > 50%"
   ]
  },
  {
   "cell_type": "code",
   "execution_count": 2,
   "metadata": {},
   "outputs": [],
   "source": [
    "# Parameter\n",
    "use_case = \"chains\"\n",
    "data_names = ['BME_1', 'BME_2', 'BME_3', 'BME_4', 'BME_5', 'CBF_1', 'CBF_2', 'CBF_3', 'CBF_4', 'CBF_5', 'ChlorineConcentration_1', 'ChlorineConcentration_2', 'ChlorineConcentration_3', 'ChlorineConcentration_4', 'ChlorineConcentration_5', 'ECG200_1', 'ECG200_2', 'ECG200_3', 'ECG200_4', 'ECG200_5', 'ECG5000_1', 'ECG5000_2', 'ECG5000_3', 'ECG5000_4', 'ECG5000_5', 'ECGFiveDays_1', 'ECGFiveDays_2', 'ECGFiveDays_3', 'ECGFiveDays_4', 'ECGFiveDays_5', 'FreezerRegularTrain_1', 'FreezerRegularTrain_2', 'FreezerRegularTrain_3', 'FreezerRegularTrain_4', 'FreezerRegularTrain_5', 'FreezerSmallTrain_1', 'FreezerSmallTrain_2', 'FreezerSmallTrain_3', 'FreezerSmallTrain_4', 'FreezerSmallTrain_5', 'Lightning7_1', 'Lightning7_2', 'Lightning7_3', 'Lightning7_4', 'Lightning7_5', 'Plane_1', 'Plane_2', 'Plane_3', 'Plane_4', 'Plane_5', 'SonyAIBORobotSurface1_1', 'SonyAIBORobotSurface1_2', 'SonyAIBORobotSurface1_3', 'SonyAIBORobotSurface1_4', 'SonyAIBORobotSurface1_5', 'SonyAIBORobotSurface2_1', 'SonyAIBORobotSurface2_2', 'SonyAIBORobotSurface2_3', 'SonyAIBORobotSurface2_4', 'SonyAIBORobotSurface2_5', 'Trace_1', 'Trace_2', 'Trace_3', 'Trace_4', 'Trace_5', 'TwoLeadECG_1', 'TwoLeadECG_2', 'TwoLeadECG_3', 'TwoLeadECG_4', 'TwoLeadECG_5', 'TwoPatterns_1', 'TwoPatterns_2', 'TwoPatterns_3', 'TwoPatterns_4', 'TwoPatterns_5', 'UMD_1', 'UMD_2', 'UMD_3', 'UMD_4', 'UMD_5', 'Wafer_1', 'Wafer_2', 'Wafer_3', 'Wafer_4', 'Wafer_5']\n"
   ]
  },
  {
   "cell_type": "code",
   "execution_count": 3,
   "metadata": {},
   "outputs": [
    {
     "name": "stdout",
     "output_type": "stream",
     "text": [
      "Starting Experiment 1/85: BME_1\n",
      "Running Experiment: target_w=128, m=None, offset=False, groundtruthD1=False, nonoverlapping=False\n",
      "Calculated min MP\n"
     ]
    },
    {
     "ename": "IndexError",
     "evalue": "only integers, slices (`:`), ellipsis (`...`), numpy.newaxis (`None`) and integer or boolean arrays are valid indices",
     "output_type": "error",
     "traceback": [
      "\u001b[0;31m---------------------------------------------------------------------------\u001b[0m",
      "\u001b[0;31mIndexError\u001b[0m                                Traceback (most recent call last)",
      "Cell \u001b[0;32mIn[3], line 27\u001b[0m\n\u001b[1;32m     24\u001b[0m offset \u001b[39m=\u001b[39m \u001b[39mFalse\u001b[39;00m \u001b[39m# if offset=True, the chains with dilation are calculated with a starting offset of the chain without dilation\u001b[39;00m\n\u001b[1;32m     26\u001b[0m \u001b[39m# calculate\u001b[39;00m\n\u001b[0;32m---> 27\u001b[0m score \u001b[39m=\u001b[39m calculate\u001b[39m.\u001b[39;49mchains_ensemble_mp_min(T, max_dilation, data_name, use_case, ground_truth, offset, non_overlapping, target_w, m)\n\u001b[1;32m     28\u001b[0m f1 \u001b[39m=\u001b[39m score\u001b[39m.\u001b[39mf1_score\n\u001b[1;32m     29\u001b[0m scores\u001b[39m.\u001b[39mappend(f1)\n",
      "File \u001b[0;32m~/mp_dilation_master/experiments_master_mp_dilation/experiments/core/calculate.py:118\u001b[0m, in \u001b[0;36mchains_ensemble_mp_min\u001b[0;34m(T, max_dilation, data_name, use_case, ground_truth_chain, offset, non_overlapping, target_w, m, offset_value)\u001b[0m\n\u001b[1;32m    116\u001b[0m     all_chain_set \u001b[39m=\u001b[39m [chain]\n\u001b[1;32m    117\u001b[0m \u001b[39melse\u001b[39;00m:\n\u001b[0;32m--> 118\u001b[0m     all_chain_set, chain \u001b[39m=\u001b[39m stumpy\u001b[39m.\u001b[39;49mallc(mp[:, \u001b[39m2\u001b[39;49m], mp[:, \u001b[39m3\u001b[39;49m])\n\u001b[1;32m    120\u001b[0m \u001b[39mif\u001b[39;00m non_overlapping:\n\u001b[1;32m    121\u001b[0m     all_chain_set, chain \u001b[39m=\u001b[39m utils\u001b[39m.\u001b[39mremove_overlapping_chains(all_chain_set, m, d)\n",
      "File \u001b[0;32m~/mp_dilation_master/stumpy_master_mp_dilation/stumpy/chains.py:125\u001b[0m, in \u001b[0;36mallc\u001b[0;34m(IL, IR)\u001b[0m\n\u001b[1;32m    123\u001b[0m C \u001b[39m=\u001b[39m deque([j])\n\u001b[1;32m    124\u001b[0m \u001b[39mfor\u001b[39;00m k \u001b[39min\u001b[39;00m \u001b[39mrange\u001b[39m(IL\u001b[39m.\u001b[39msize):\n\u001b[0;32m--> 125\u001b[0m     \u001b[39mif\u001b[39;00m IR[j] \u001b[39m==\u001b[39m \u001b[39m-\u001b[39m\u001b[39m1\u001b[39m \u001b[39mor\u001b[39;00m IL[IR[j]] \u001b[39m!=\u001b[39m j:\n\u001b[1;32m    126\u001b[0m         \u001b[39mbreak\u001b[39;00m\n\u001b[1;32m    127\u001b[0m     \u001b[39melse\u001b[39;00m:\n",
      "\u001b[0;31mIndexError\u001b[0m: only integers, slices (`:`), ellipsis (`...`), numpy.newaxis (`None`) and integer or boolean arrays are valid indices"
     ]
    }
   ],
   "source": [
    "max_dilation = 15\n",
    "\n",
    "cols = ['dataname']\n",
    "dilation_sizes = [\"d\"+str(d+1) for d in range(max_dilation)]\n",
    "cols += dilation_sizes\n",
    "\n",
    "recall_table = pd.DataFrame(columns=cols)\n",
    "precision_table = pd.DataFrame(columns=cols)\n",
    "f1_table = pd.DataFrame(columns=cols)\n",
    "scores = []\n",
    "\n",
    "# Bulk Experiment\n",
    "for count, data_name in enumerate(data_names):\n",
    "    print(f'Starting Experiment {count+1}/{len(data_names)}: {data_name}')\n",
    "    T = testdata.load_from_mat(\"../data/\" + use_case + \"/robustness/ts/\" + data_name + \".mat\", \"ts\")\n",
    "    l = testdata.load_from_mat(\"../data/\" + use_case + \"/robustness/ts/\" + data_name + \".mat\", \"l\")\n",
    "\n",
    "    ground_truth = testdata.load_gt(\"../data/\" + use_case + \"/robustness/gt/\" + data_name + \".mat\", \"idx_tsc\")\n",
    "\n",
    "    # Hyperparameter\n",
    "    target_w = int(l)\n",
    "    m = None\n",
    "    non_overlapping = False # if True, overlapping chains are filtered\n",
    "    offset = False # if offset=True, the chains with dilation are calculated with a starting offset of the chain without dilation\n",
    "\n",
    "    # calculate\n",
    "    score = calculate.chains_ensemble_mp_min(T, max_dilation, data_name, use_case, ground_truth, offset, non_overlapping, target_w, m)\n",
    "    f1 = score.f1_score\n",
    "    scores.append(f1)\n",
    "\n",
    "av_performance = sum(scores)/len(scores)\n",
    "print(av_performance)\n",
    "\n"
   ]
  }
 ],
 "metadata": {
  "kernelspec": {
   "display_name": "masterthesis",
   "language": "python",
   "name": "python3"
  },
  "language_info": {
   "codemirror_mode": {
    "name": "ipython",
    "version": 3
   },
   "file_extension": ".py",
   "mimetype": "text/x-python",
   "name": "python",
   "nbconvert_exporter": "python",
   "pygments_lexer": "ipython3",
   "version": "3.10.4"
  },
  "orig_nbformat": 4,
  "vscode": {
   "interpreter": {
    "hash": "c63f775a29077d88326ae6f063688ea24fd4744bb6810a004c04d9663ba131b5"
   }
  }
 },
 "nbformat": 4,
 "nbformat_minor": 2
}
