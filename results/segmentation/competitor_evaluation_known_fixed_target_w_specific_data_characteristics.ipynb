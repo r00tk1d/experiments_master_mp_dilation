{
 "cells": [
  {
   "attachments": {},
   "cell_type": "markdown",
   "metadata": {},
   "source": [
    "# Evaluation of the Results for known CPs with fixed target range w #\n",
    "Notebook from https://github.com/ermshaua/time-series-segmentation-benchmark/blob/main/tssb/notebooks/competitor_evaluation.ipynb. Slightly edited."
   ]
  },
  {
   "cell_type": "code",
   "execution_count": 40,
   "metadata": {},
   "outputs": [],
   "source": [
    "import numpy as np\n",
    "import pandas as pd\n",
    "\n",
    "import pandas as pd\n",
    "pd.set_option('display.max_rows', None)\n",
    "\n",
    "import matplotlib.pyplot as plt\n",
    "import seaborn as sns\n",
    "\n",
    "sns.set_theme()\n",
    "sns.set_color_codes()\n",
    "\n",
    "import sys\n",
    "sys.path.append(\"../../\")\n",
    "\n",
    "import orange3score\n",
    "from tssb.utils import load_time_series_segmentation_datasets"
   ]
  },
  {
   "cell_type": "markdown",
   "metadata": {},
   "source": [
    "Let's load the scores from the different methods."
   ]
  },
  {
   "cell_type": "code",
   "execution_count": 41,
   "metadata": {},
   "outputs": [
    {
     "name": "stdout",
     "output_type": "stream",
     "text": [
      "13\n"
     ]
    },
    {
     "data": {
      "text/html": [
       "<div>\n",
       "<style scoped>\n",
       "    .dataframe tbody tr th:only-of-type {\n",
       "        vertical-align: middle;\n",
       "    }\n",
       "\n",
       "    .dataframe tbody tr th {\n",
       "        vertical-align: top;\n",
       "    }\n",
       "\n",
       "    .dataframe thead th {\n",
       "        text-align: right;\n",
       "    }\n",
       "</style>\n",
       "<table border=\"1\" class=\"dataframe\">\n",
       "  <thead>\n",
       "    <tr style=\"text-align: right;\">\n",
       "      <th></th>\n",
       "      <th>dataset</th>\n",
       "      <th>flussOracle</th>\n",
       "      <th>fluss1</th>\n",
       "      <th>fluss2</th>\n",
       "      <th>fluss3</th>\n",
       "      <th>fluss4</th>\n",
       "      <th>fluss5</th>\n",
       "      <th>flussEnsSum</th>\n",
       "      <th>flussEnsMin</th>\n",
       "    </tr>\n",
       "  </thead>\n",
       "  <tbody>\n",
       "    <tr>\n",
       "      <th>11</th>\n",
       "      <td>Computers</td>\n",
       "      <td>0.489950</td>\n",
       "      <td>0.493516</td>\n",
       "      <td>0.487437</td>\n",
       "      <td>0.489506</td>\n",
       "      <td>0.489950</td>\n",
       "      <td>0.476187</td>\n",
       "      <td>0.950555</td>\n",
       "      <td>0.493516</td>\n",
       "    </tr>\n",
       "    <tr>\n",
       "      <th>15</th>\n",
       "      <td>Crop</td>\n",
       "      <td>0.244522</td>\n",
       "      <td>0.247633</td>\n",
       "      <td>0.243803</td>\n",
       "      <td>0.244522</td>\n",
       "      <td>0.128839</td>\n",
       "      <td>0.156819</td>\n",
       "      <td>0.125741</td>\n",
       "      <td>0.247633</td>\n",
       "    </tr>\n",
       "    <tr>\n",
       "      <th>23</th>\n",
       "      <td>EOGVerticalSignal</td>\n",
       "      <td>0.169664</td>\n",
       "      <td>0.340074</td>\n",
       "      <td>0.169664</td>\n",
       "      <td>0.169664</td>\n",
       "      <td>0.169664</td>\n",
       "      <td>0.169664</td>\n",
       "      <td>0.339245</td>\n",
       "      <td>0.340074</td>\n",
       "    </tr>\n",
       "    <tr>\n",
       "      <th>24</th>\n",
       "      <td>FaceAll</td>\n",
       "      <td>0.401397</td>\n",
       "      <td>0.399217</td>\n",
       "      <td>0.401397</td>\n",
       "      <td>0.160531</td>\n",
       "      <td>0.167947</td>\n",
       "      <td>0.185458</td>\n",
       "      <td>0.257688</td>\n",
       "      <td>0.399217</td>\n",
       "    </tr>\n",
       "    <tr>\n",
       "      <th>25</th>\n",
       "      <td>FaceFour</td>\n",
       "      <td>0.795838</td>\n",
       "      <td>0.795087</td>\n",
       "      <td>0.795683</td>\n",
       "      <td>0.794636</td>\n",
       "      <td>0.795767</td>\n",
       "      <td>0.795838</td>\n",
       "      <td>0.516553</td>\n",
       "      <td>0.795087</td>\n",
       "    </tr>\n",
       "    <tr>\n",
       "      <th>28</th>\n",
       "      <td>Fish</td>\n",
       "      <td>0.367178</td>\n",
       "      <td>0.288193</td>\n",
       "      <td>0.363661</td>\n",
       "      <td>0.367178</td>\n",
       "      <td>0.143285</td>\n",
       "      <td>0.246144</td>\n",
       "      <td>0.285850</td>\n",
       "      <td>0.288193</td>\n",
       "    </tr>\n",
       "    <tr>\n",
       "      <th>29</th>\n",
       "      <td>FreezerRegularTrain</td>\n",
       "      <td>0.517146</td>\n",
       "      <td>0.519049</td>\n",
       "      <td>0.517146</td>\n",
       "      <td>0.515812</td>\n",
       "      <td>0.515890</td>\n",
       "      <td>0.513420</td>\n",
       "      <td>0.513614</td>\n",
       "      <td>0.519049</td>\n",
       "    </tr>\n",
       "    <tr>\n",
       "      <th>37</th>\n",
       "      <td>LargeKitchenAppliances</td>\n",
       "      <td>0.964806</td>\n",
       "      <td>0.923315</td>\n",
       "      <td>0.546649</td>\n",
       "      <td>0.433951</td>\n",
       "      <td>0.964806</td>\n",
       "      <td>0.598826</td>\n",
       "      <td>0.510327</td>\n",
       "      <td>0.877001</td>\n",
       "    </tr>\n",
       "    <tr>\n",
       "      <th>44</th>\n",
       "      <td>MiddlePhalanxOutlineAgeGroup</td>\n",
       "      <td>0.482822</td>\n",
       "      <td>0.331050</td>\n",
       "      <td>0.479932</td>\n",
       "      <td>0.482822</td>\n",
       "      <td>0.247536</td>\n",
       "      <td>0.479857</td>\n",
       "      <td>0.470493</td>\n",
       "      <td>0.331050</td>\n",
       "    </tr>\n",
       "    <tr>\n",
       "      <th>48</th>\n",
       "      <td>NonInvasiveFetalECGThorax1</td>\n",
       "      <td>0.337453</td>\n",
       "      <td>0.335010</td>\n",
       "      <td>0.335269</td>\n",
       "      <td>0.335311</td>\n",
       "      <td>0.337453</td>\n",
       "      <td>0.335282</td>\n",
       "      <td>0.339528</td>\n",
       "      <td>0.335010</td>\n",
       "    </tr>\n",
       "    <tr>\n",
       "      <th>49</th>\n",
       "      <td>NonInvasiveFetalECGThorax2</td>\n",
       "      <td>0.414731</td>\n",
       "      <td>0.414358</td>\n",
       "      <td>0.414713</td>\n",
       "      <td>0.414731</td>\n",
       "      <td>0.408487</td>\n",
       "      <td>0.408103</td>\n",
       "      <td>0.267533</td>\n",
       "      <td>0.414358</td>\n",
       "    </tr>\n",
       "    <tr>\n",
       "      <th>69</th>\n",
       "      <td>UWaveGestureLibraryAll</td>\n",
       "      <td>0.575483</td>\n",
       "      <td>0.585520</td>\n",
       "      <td>0.575483</td>\n",
       "      <td>0.390416</td>\n",
       "      <td>0.199447</td>\n",
       "      <td>0.199588</td>\n",
       "      <td>0.402430</td>\n",
       "      <td>0.585520</td>\n",
       "    </tr>\n",
       "    <tr>\n",
       "      <th>74</th>\n",
       "      <td>Yoga</td>\n",
       "      <td>0.502103</td>\n",
       "      <td>0.991277</td>\n",
       "      <td>0.502103</td>\n",
       "      <td>0.501583</td>\n",
       "      <td>0.494029</td>\n",
       "      <td>0.502020</td>\n",
       "      <td>0.502478</td>\n",
       "      <td>0.991277</td>\n",
       "    </tr>\n",
       "  </tbody>\n",
       "</table>\n",
       "</div>"
      ],
      "text/plain": [
       "                         dataset  flussOracle    fluss1    fluss2    fluss3  \\\n",
       "11                     Computers     0.489950  0.493516  0.487437  0.489506   \n",
       "15                          Crop     0.244522  0.247633  0.243803  0.244522   \n",
       "23             EOGVerticalSignal     0.169664  0.340074  0.169664  0.169664   \n",
       "24                       FaceAll     0.401397  0.399217  0.401397  0.160531   \n",
       "25                      FaceFour     0.795838  0.795087  0.795683  0.794636   \n",
       "28                          Fish     0.367178  0.288193  0.363661  0.367178   \n",
       "29           FreezerRegularTrain     0.517146  0.519049  0.517146  0.515812   \n",
       "37        LargeKitchenAppliances     0.964806  0.923315  0.546649  0.433951   \n",
       "44  MiddlePhalanxOutlineAgeGroup     0.482822  0.331050  0.479932  0.482822   \n",
       "48    NonInvasiveFetalECGThorax1     0.337453  0.335010  0.335269  0.335311   \n",
       "49    NonInvasiveFetalECGThorax2     0.414731  0.414358  0.414713  0.414731   \n",
       "69        UWaveGestureLibraryAll     0.575483  0.585520  0.575483  0.390416   \n",
       "74                          Yoga     0.502103  0.991277  0.502103  0.501583   \n",
       "\n",
       "      fluss4    fluss5  flussEnsSum  flussEnsMin  \n",
       "11  0.489950  0.476187     0.950555     0.493516  \n",
       "15  0.128839  0.156819     0.125741     0.247633  \n",
       "23  0.169664  0.169664     0.339245     0.340074  \n",
       "24  0.167947  0.185458     0.257688     0.399217  \n",
       "25  0.795767  0.795838     0.516553     0.795087  \n",
       "28  0.143285  0.246144     0.285850     0.288193  \n",
       "29  0.515890  0.513420     0.513614     0.519049  \n",
       "37  0.964806  0.598826     0.510327     0.877001  \n",
       "44  0.247536  0.479857     0.470493     0.331050  \n",
       "48  0.337453  0.335282     0.339528     0.335010  \n",
       "49  0.408487  0.408103     0.267533     0.414358  \n",
       "69  0.199447  0.199588     0.402430     0.585520  \n",
       "74  0.494029  0.502020     0.502478     0.991277  "
      ]
     },
     "execution_count": 41,
     "metadata": {},
     "output_type": "execute_result"
    }
   ],
   "source": [
    "df_ts = load_time_series_segmentation_datasets()\n",
    "# selected_rows = df_ts[df_ts['window_size'] == 20][\"dataset\"].tolist()\n",
    "# selected_rows = df_ts[df_ts['change_points'].apply(lambda lst: len(lst) == 3)][\"dataset\"].tolist()\n",
    "selected_rows = df_ts[df_ts['time_series'].apply(lambda lst: len(lst) >= 8000 and len(lst) < 21000)][\"dataset\"].tolist()\n",
    "print(len(selected_rows))\n",
    "\n",
    "df_scores = pd.read_csv(\"./_segmentation_covering_known_stumpy_target_w_fluss_ALL.csv\")\n",
    "df_scores = df_scores[df_scores['dataset'].isin(selected_rows)]\n",
    "df_scores\n"
   ]
  },
  {
   "cell_type": "markdown",
   "metadata": {},
   "source": [
    "Let's calculate the mean/median/std error."
   ]
  },
  {
   "cell_type": "code",
   "execution_count": 42,
   "metadata": {},
   "outputs": [
    {
     "name": "stdout",
     "output_type": "stream",
     "text": [
      "flussOracle: mean_error=48.18\n",
      "fluss1: mean_error=51.26\n",
      "fluss2: mean_error=44.87\n",
      "fluss3: mean_error=40.77\n",
      "fluss4: mean_error=38.95\n",
      "fluss5: mean_error=38.98\n",
      "flussEnsSum: mean_error=42.17\n",
      "flussEnsMin: mean_error=50.9\n"
     ]
    }
   ],
   "source": [
    "for name in df_scores.columns[1:]:\n",
    "    print(f\"{name}: mean_error={np.round(df_scores[name].mean() * 100, 2)}\")"
   ]
  },
  {
   "cell_type": "code",
   "execution_count": 43,
   "metadata": {
    "collapsed": false,
    "pycharm": {
     "name": "#%%\n"
    }
   },
   "outputs": [
    {
     "name": "stdout",
     "output_type": "stream",
     "text": [
      "flussOracle: median_error=48.28\n",
      "fluss1: median_error=41.44\n",
      "fluss2: median_error=47.99\n",
      "fluss3: median_error=41.47\n",
      "fluss4: median_error=33.75\n",
      "fluss5: median_error=40.81\n",
      "flussEnsSum: median_error=40.24\n",
      "flussEnsMin: median_error=41.44\n"
     ]
    }
   ],
   "source": [
    "for name in df_scores.columns[1:]:\n",
    "    print(f\"{name}: median_error={np.round(df_scores[name].median() * 100, 2)}\")"
   ]
  },
  {
   "cell_type": "code",
   "execution_count": 44,
   "metadata": {},
   "outputs": [
    {
     "name": "stdout",
     "output_type": "stream",
     "text": [
      "flussOracle: std_error=21.23\n",
      "fluss1: std_error=24.51\n",
      "fluss2: std_error=15.8\n",
      "fluss3: std_error=16.7\n",
      "fluss4: std_error=26.11\n",
      "fluss5: std_error=19.51\n",
      "flussEnsSum: std_error=20.09\n",
      "flussEnsMin: std_error=23.89\n"
     ]
    }
   ],
   "source": [
    "for name in df_scores.columns[1:]:\n",
    "    print(f\"{name}: std_error={np.round(df_scores[name].std() * 100, 2)}\")"
   ]
  },
  {
   "cell_type": "markdown",
   "metadata": {},
   "source": [
    "Let's compute the wins per method."
   ]
  },
  {
   "cell_type": "code",
   "execution_count": 45,
   "metadata": {},
   "outputs": [
    {
     "name": "stderr",
     "output_type": "stream",
     "text": [
      "/tmp/ipykernel_56832/3065857076.py:1: FutureWarning: Dropping of nuisance columns in DataFrame.rank is deprecated; in a future version this will raise TypeError. Select only valid columns before calling rank.\n",
      "  ranks = df_scores.rank(1, method = 'min', ascending=False)\n"
     ]
    }
   ],
   "source": [
    "ranks = df_scores.rank(1, method = 'min', ascending=False)\n",
    "means = np.array(ranks.mean(axis=0))"
   ]
  },
  {
   "cell_type": "code",
   "execution_count": 46,
   "metadata": {},
   "outputs": [
    {
     "name": "stdout",
     "output_type": "stream",
     "text": [
      "flussOracle:wins=6 rank=2.2\n",
      "fluss1:wins=5 rank=3.0\n",
      "fluss2:wins=1 rank=4.0\n",
      "fluss3:wins=3 rank=4.8\n",
      "fluss4:wins=1 rank=5.5\n",
      "fluss5:wins=1 rank=5.7\n",
      "flussEnsSum:wins=2 rank=5.2\n",
      "flussEnsMin:wins=5 rank=3.1\n"
     ]
    }
   ],
   "source": [
    "for mean, name in zip(means, df_scores.columns[1:]):\n",
    "    print(f\"{name}:wins={ranks[ranks[name] == 1].shape[0]} rank={np.round(mean, 1)}\")\n"
   ]
  },
  {
   "cell_type": "markdown",
   "metadata": {},
   "source": [
    "Let's plot and output the ranks."
   ]
  },
  {
   "cell_type": "code",
   "execution_count": 47,
   "metadata": {},
   "outputs": [],
   "source": [
    "cd = orange3score.compute_CD(means, df_scores.shape[0])\n",
    "orange3score.graph_ranks(avranks=means, names=df_scores.columns[1:], cd=cd, width=5, reverse=True, textspace=1.3, filename=\"./ranks_known_fixed_target_w.png\")"
   ]
  },
  {
   "cell_type": "code",
   "execution_count": 48,
   "metadata": {},
   "outputs": [
    {
     "name": "stdout",
     "output_type": "stream",
     "text": [
      "flussOracle: rank=2.23077\n",
      "fluss1: rank=3.0\n",
      "fluss2: rank=4.0\n",
      "fluss3: rank=4.76923\n",
      "fluss4: rank=5.46154\n",
      "fluss5: rank=5.69231\n",
      "flussEnsSum: rank=5.15385\n",
      "flussEnsMin: rank=3.07692\n"
     ]
    }
   ],
   "source": [
    "for name, rank in zip(df_scores.columns[1:], means):\n",
    "    print(f\"{name}: rank={np.round(rank, 5)}\")"
   ]
  },
  {
   "attachments": {},
   "cell_type": "markdown",
   "metadata": {},
   "source": [
    "Let's compute wins/losses against the stumpy fluss algorithm (no dilation)."
   ]
  },
  {
   "cell_type": "code",
   "execution_count": 49,
   "metadata": {},
   "outputs": [
    {
     "name": "stdout",
     "output_type": "stream",
     "text": [
      "fluss1 vs flussOracle: (wins/losses/ties): 7/6/0\n",
      "fluss1 vs fluss2: (wins/losses/ties): 6/7/0\n",
      "fluss1 vs fluss3: (wins/losses/ties): 4/9/0\n",
      "fluss1 vs fluss4: (wins/losses/ties): 3/10/0\n",
      "fluss1 vs fluss5: (wins/losses/ties): 3/10/0\n",
      "fluss1 vs flussEnsSum: (wins/losses/ties): 3/10/0\n",
      "fluss1 vs flussEnsMin: (wins/losses/ties): 0/1/12\n"
     ]
    }
   ],
   "source": [
    "for rival in df_scores.columns[1:]:\n",
    "    if rival == \"fluss1\": continue\n",
    "    \n",
    "    df_pair = df_scores[[\"fluss1\", rival]]\n",
    "    pair_ranks = df_pair.rank(1, method = 'min', ascending=True)\n",
    "    \n",
    "    wins = pair_ranks[(pair_ranks[\"fluss1\"] == 1) & (pair_ranks[rival] == 2)].shape[0]\n",
    "    losses = pair_ranks[(pair_ranks[\"fluss1\"] == 2) & (pair_ranks[rival] == 1)].shape[0]\n",
    "    ties = pair_ranks[(pair_ranks[\"fluss1\"] == 1) & (pair_ranks[rival] == 1)].shape[0]\n",
    "    \n",
    "    assert wins + losses + ties == pair_ranks.shape[0]\n",
    "    \n",
    "    print(f\"fluss1 vs {rival}: (wins/losses/ties): {wins}/{losses}/{ties}\")"
   ]
  },
  {
   "cell_type": "code",
   "execution_count": 50,
   "metadata": {},
   "outputs": [
    {
     "name": "stderr",
     "output_type": "stream",
     "text": [
      "/tmp/ipykernel_56832/4256861775.py:8: MatplotlibDeprecationWarning: The label function was deprecated in Matplotlib 3.1 and will be removed in 3.8. Use Tick.label1 instead.\n",
      "  tick.label.set_fontsize(fontsize)\n",
      "/tmp/ipykernel_56832/4256861775.py:11: MatplotlibDeprecationWarning: The label function was deprecated in Matplotlib 3.1 and will be removed in 3.8. Use Tick.label1 instead.\n",
      "  tick.label.set_fontsize(fontsize)\n"
     ]
    },
    {
     "data": {
      "image/png": "[encoded data removed]",
      "text/plain": [
       "<Figure size 500x200 with 1 Axes>"
      ]
     },
     "metadata": {},
     "output_type": "display_data"
    }
   ],
   "source": [
    "fontsize = 12\n",
    "_, ax = plt.subplots(figsize=(5,2))\n",
    "\n",
    "df_scores.boxplot(ax=ax, rot=30)\n",
    "ax.set_ylabel(\"Covering\", fontsize=fontsize)\n",
    "\n",
    "for tick in ax.xaxis.get_major_ticks():\n",
    "    tick.label.set_fontsize(fontsize)\n",
    "\n",
    "for tick in ax.yaxis.get_major_ticks():\n",
    "    tick.label.set_fontsize(fontsize)\n",
    "\n",
    "plt.savefig(f\"./boxplot_known_fixed_target_w.png\", bbox_inches=\"tight\")"
   ]
  },
  {
   "cell_type": "markdown",
   "metadata": {
    "collapsed": false,
    "pycharm": {
     "name": "#%% md\n"
    }
   },
   "source": []
  }
 ],
 "metadata": {
  "kernelspec": {
   "display_name": "Python 3 (ipykernel)",
   "language": "python",
   "name": "python3"
  },
  "language_info": {
   "codemirror_mode": {
    "name": "ipython",
    "version": 3
   },
   "file_extension": ".py",
   "mimetype": "text/x-python",
   "name": "python",
   "nbconvert_exporter": "python",
   "pygments_lexer": "ipython3",
   "version": "3.10.4"
  }
 },
 "nbformat": 4,
 "nbformat_minor": 4
}
