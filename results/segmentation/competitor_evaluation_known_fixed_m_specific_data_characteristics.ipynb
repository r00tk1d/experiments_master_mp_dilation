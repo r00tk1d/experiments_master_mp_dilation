{
 "cells": [
  {
   "attachments": {},
   "cell_type": "markdown",
   "metadata": {},
   "source": [
    "# Evaluation of the Results for known CPs with fixed window size m (number of values) #\n",
    "Notebook from https://github.com/ermshaua/time-series-segmentation-benchmark/blob/main/tssb/notebooks/competitor_evaluation.ipynb. Slightly edited."
   ]
  },
  {
   "cell_type": "code",
   "execution_count": 34,
   "metadata": {},
   "outputs": [],
   "source": [
    "import numpy as np\n",
    "import pandas as pd\n",
    "\n",
    "import pandas as pd\n",
    "pd.set_option('display.max_rows', None)\n",
    "\n",
    "import matplotlib.pyplot as plt\n",
    "import seaborn as sns\n",
    "\n",
    "sns.set_theme()\n",
    "sns.set_color_codes()\n",
    "\n",
    "import sys\n",
    "sys.path.append(\"../../\")\n",
    "\n",
    "import orange3score\n",
    "\n",
    "from tssb.utils import load_time_series_segmentation_datasets"
   ]
  },
  {
   "cell_type": "markdown",
   "metadata": {},
   "source": [
    "Let's load the scores from the different methods."
   ]
  },
  {
   "cell_type": "code",
   "execution_count": 35,
   "metadata": {},
   "outputs": [
    {
     "name": "stdout",
     "output_type": "stream",
     "text": [
      "13\n"
     ]
    },
    {
     "data": {
      "text/html": [
       "<div>\n",
       "<style scoped>\n",
       "    .dataframe tbody tr th:only-of-type {\n",
       "        vertical-align: middle;\n",
       "    }\n",
       "\n",
       "    .dataframe tbody tr th {\n",
       "        vertical-align: top;\n",
       "    }\n",
       "\n",
       "    .dataframe thead th {\n",
       "        text-align: right;\n",
       "    }\n",
       "</style>\n",
       "<table border=\"1\" class=\"dataframe\">\n",
       "  <thead>\n",
       "    <tr style=\"text-align: right;\">\n",
       "      <th></th>\n",
       "      <th>dataset</th>\n",
       "      <th>flussOracle</th>\n",
       "      <th>fluss1</th>\n",
       "      <th>fluss2</th>\n",
       "      <th>fluss3</th>\n",
       "      <th>fluss4</th>\n",
       "      <th>fluss5</th>\n",
       "      <th>flussEnsSum</th>\n",
       "      <th>flussEnsMin</th>\n",
       "    </tr>\n",
       "  </thead>\n",
       "  <tbody>\n",
       "    <tr>\n",
       "      <th>11</th>\n",
       "      <td>Computers</td>\n",
       "      <td>0.942118</td>\n",
       "      <td>0.493516</td>\n",
       "      <td>0.941950</td>\n",
       "      <td>0.942118</td>\n",
       "      <td>0.488665</td>\n",
       "      <td>0.488346</td>\n",
       "      <td>0.941614</td>\n",
       "      <td>0.493516</td>\n",
       "    </tr>\n",
       "    <tr>\n",
       "      <th>15</th>\n",
       "      <td>Crop</td>\n",
       "      <td>0.334651</td>\n",
       "      <td>0.247633</td>\n",
       "      <td>0.243074</td>\n",
       "      <td>0.334651</td>\n",
       "      <td>0.331123</td>\n",
       "      <td>0.182560</td>\n",
       "      <td>0.242804</td>\n",
       "      <td>0.336366</td>\n",
       "    </tr>\n",
       "    <tr>\n",
       "      <th>23</th>\n",
       "      <td>EOGVerticalSignal</td>\n",
       "      <td>0.335479</td>\n",
       "      <td>0.340074</td>\n",
       "      <td>0.333071</td>\n",
       "      <td>0.333318</td>\n",
       "      <td>0.335319</td>\n",
       "      <td>0.335479</td>\n",
       "      <td>0.338001</td>\n",
       "      <td>0.335479</td>\n",
       "    </tr>\n",
       "    <tr>\n",
       "      <th>24</th>\n",
       "      <td>FaceAll</td>\n",
       "      <td>0.547511</td>\n",
       "      <td>0.399217</td>\n",
       "      <td>0.405082</td>\n",
       "      <td>0.547511</td>\n",
       "      <td>0.407229</td>\n",
       "      <td>0.264901</td>\n",
       "      <td>0.256416</td>\n",
       "      <td>0.399217</td>\n",
       "    </tr>\n",
       "    <tr>\n",
       "      <th>25</th>\n",
       "      <td>FaceFour</td>\n",
       "      <td>0.787800</td>\n",
       "      <td>0.795087</td>\n",
       "      <td>0.541790</td>\n",
       "      <td>0.537905</td>\n",
       "      <td>0.538133</td>\n",
       "      <td>0.787800</td>\n",
       "      <td>0.512962</td>\n",
       "      <td>0.537905</td>\n",
       "    </tr>\n",
       "    <tr>\n",
       "      <th>28</th>\n",
       "      <td>Fish</td>\n",
       "      <td>0.537034</td>\n",
       "      <td>0.288193</td>\n",
       "      <td>0.428884</td>\n",
       "      <td>0.440206</td>\n",
       "      <td>0.427728</td>\n",
       "      <td>0.537034</td>\n",
       "      <td>0.283715</td>\n",
       "      <td>0.580194</td>\n",
       "    </tr>\n",
       "    <tr>\n",
       "      <th>29</th>\n",
       "      <td>FreezerRegularTrain</td>\n",
       "      <td>0.515706</td>\n",
       "      <td>0.519049</td>\n",
       "      <td>0.515706</td>\n",
       "      <td>0.466347</td>\n",
       "      <td>0.456977</td>\n",
       "      <td>0.459104</td>\n",
       "      <td>0.445281</td>\n",
       "      <td>0.456977</td>\n",
       "    </tr>\n",
       "    <tr>\n",
       "      <th>37</th>\n",
       "      <td>LargeKitchenAppliances</td>\n",
       "      <td>0.619278</td>\n",
       "      <td>0.923315</td>\n",
       "      <td>0.619278</td>\n",
       "      <td>0.563755</td>\n",
       "      <td>0.554059</td>\n",
       "      <td>0.573807</td>\n",
       "      <td>0.649696</td>\n",
       "      <td>0.619278</td>\n",
       "    </tr>\n",
       "    <tr>\n",
       "      <th>44</th>\n",
       "      <td>MiddlePhalanxOutlineAgeGroup</td>\n",
       "      <td>0.594355</td>\n",
       "      <td>0.331050</td>\n",
       "      <td>0.584878</td>\n",
       "      <td>0.583554</td>\n",
       "      <td>0.594355</td>\n",
       "      <td>0.587823</td>\n",
       "      <td>0.336737</td>\n",
       "      <td>0.346315</td>\n",
       "    </tr>\n",
       "    <tr>\n",
       "      <th>48</th>\n",
       "      <td>NonInvasiveFetalECGThorax1</td>\n",
       "      <td>0.336552</td>\n",
       "      <td>0.335010</td>\n",
       "      <td>0.335314</td>\n",
       "      <td>0.335680</td>\n",
       "      <td>0.336552</td>\n",
       "      <td>0.336531</td>\n",
       "      <td>0.335395</td>\n",
       "      <td>0.335314</td>\n",
       "    </tr>\n",
       "    <tr>\n",
       "      <th>49</th>\n",
       "      <td>NonInvasiveFetalECGThorax2</td>\n",
       "      <td>0.413363</td>\n",
       "      <td>0.414358</td>\n",
       "      <td>0.413363</td>\n",
       "      <td>0.413241</td>\n",
       "      <td>0.413262</td>\n",
       "      <td>0.413128</td>\n",
       "      <td>0.413303</td>\n",
       "      <td>0.413128</td>\n",
       "    </tr>\n",
       "    <tr>\n",
       "      <th>69</th>\n",
       "      <td>UWaveGestureLibraryAll</td>\n",
       "      <td>0.411136</td>\n",
       "      <td>0.585520</td>\n",
       "      <td>0.402132</td>\n",
       "      <td>0.401573</td>\n",
       "      <td>0.405577</td>\n",
       "      <td>0.411136</td>\n",
       "      <td>0.402564</td>\n",
       "      <td>0.585520</td>\n",
       "    </tr>\n",
       "    <tr>\n",
       "      <th>74</th>\n",
       "      <td>Yoga</td>\n",
       "      <td>0.996127</td>\n",
       "      <td>0.991277</td>\n",
       "      <td>0.993637</td>\n",
       "      <td>0.993761</td>\n",
       "      <td>0.996127</td>\n",
       "      <td>0.503251</td>\n",
       "      <td>0.994757</td>\n",
       "      <td>0.996127</td>\n",
       "    </tr>\n",
       "  </tbody>\n",
       "</table>\n",
       "</div>"
      ],
      "text/plain": [
       "                         dataset  flussOracle    fluss1    fluss2    fluss3  \\\n",
       "11                     Computers     0.942118  0.493516  0.941950  0.942118   \n",
       "15                          Crop     0.334651  0.247633  0.243074  0.334651   \n",
       "23             EOGVerticalSignal     0.335479  0.340074  0.333071  0.333318   \n",
       "24                       FaceAll     0.547511  0.399217  0.405082  0.547511   \n",
       "25                      FaceFour     0.787800  0.795087  0.541790  0.537905   \n",
       "28                          Fish     0.537034  0.288193  0.428884  0.440206   \n",
       "29           FreezerRegularTrain     0.515706  0.519049  0.515706  0.466347   \n",
       "37        LargeKitchenAppliances     0.619278  0.923315  0.619278  0.563755   \n",
       "44  MiddlePhalanxOutlineAgeGroup     0.594355  0.331050  0.584878  0.583554   \n",
       "48    NonInvasiveFetalECGThorax1     0.336552  0.335010  0.335314  0.335680   \n",
       "49    NonInvasiveFetalECGThorax2     0.413363  0.414358  0.413363  0.413241   \n",
       "69        UWaveGestureLibraryAll     0.411136  0.585520  0.402132  0.401573   \n",
       "74                          Yoga     0.996127  0.991277  0.993637  0.993761   \n",
       "\n",
       "      fluss4    fluss5  flussEnsSum  flussEnsMin  \n",
       "11  0.488665  0.488346     0.941614     0.493516  \n",
       "15  0.331123  0.182560     0.242804     0.336366  \n",
       "23  0.335319  0.335479     0.338001     0.335479  \n",
       "24  0.407229  0.264901     0.256416     0.399217  \n",
       "25  0.538133  0.787800     0.512962     0.537905  \n",
       "28  0.427728  0.537034     0.283715     0.580194  \n",
       "29  0.456977  0.459104     0.445281     0.456977  \n",
       "37  0.554059  0.573807     0.649696     0.619278  \n",
       "44  0.594355  0.587823     0.336737     0.346315  \n",
       "48  0.336552  0.336531     0.335395     0.335314  \n",
       "49  0.413262  0.413128     0.413303     0.413128  \n",
       "69  0.405577  0.411136     0.402564     0.585520  \n",
       "74  0.996127  0.503251     0.994757     0.996127  "
      ]
     },
     "execution_count": 35,
     "metadata": {},
     "output_type": "execute_result"
    }
   ],
   "source": [
    "df_ts = load_time_series_segmentation_datasets()\n",
    "# selected_rows = df_ts[df_ts['window_size'] == 20][\"dataset\"].tolist()\n",
    "# selected_rows = df_ts[df_ts['change_points'].apply(lambda lst: len(lst) == 3)][\"dataset\"].tolist()\n",
    "selected_rows = df_ts[df_ts['time_series'].apply(lambda lst: len(lst) >= 8000 and len(lst) < 80000)][\"dataset\"].tolist()\n",
    "print(len(selected_rows))\n",
    "\n",
    "df_scores = pd.read_csv(\"./_segmentation_covering_known_stumpy_m_fluss_ALL.csv\")\n",
    "df_scores = df_scores[df_scores['dataset'].isin(selected_rows)]\n",
    "df_scores"
   ]
  },
  {
   "cell_type": "markdown",
   "metadata": {},
   "source": [
    "Let's calculate the mean/median/std error."
   ]
  },
  {
   "cell_type": "code",
   "execution_count": 36,
   "metadata": {},
   "outputs": [
    {
     "name": "stdout",
     "output_type": "stream",
     "text": [
      "flussOracle: mean_error=56.7\n",
      "fluss1: mean_error=51.26\n",
      "fluss2: mean_error=51.99\n",
      "fluss3: mean_error=53.03\n",
      "fluss4: mean_error=48.35\n",
      "fluss5: mean_error=45.24\n",
      "flussEnsSum: mean_error=47.33\n",
      "flussEnsMin: mean_error=49.5\n"
     ]
    }
   ],
   "source": [
    "for name in df_scores.columns[1:]:\n",
    "    print(f\"{name}: mean_error={np.round(df_scores[name].mean() * 100, 2)}\")"
   ]
  },
  {
   "cell_type": "code",
   "execution_count": 37,
   "metadata": {
    "collapsed": false,
    "pycharm": {
     "name": "#%%\n"
    }
   },
   "outputs": [
    {
     "name": "stdout",
     "output_type": "stream",
     "text": [
      "flussOracle: median_error=53.7\n",
      "fluss1: median_error=41.44\n",
      "fluss2: median_error=42.89\n",
      "fluss3: median_error=46.63\n",
      "fluss4: median_error=42.77\n",
      "fluss5: median_error=45.91\n",
      "flussEnsSum: median_error=40.26\n",
      "flussEnsMin: median_error=45.7\n"
     ]
    }
   ],
   "source": [
    "for name in df_scores.columns[1:]:\n",
    "    print(f\"{name}: median_error={np.round(df_scores[name].median() * 100, 2)}\")"
   ]
  },
  {
   "cell_type": "code",
   "execution_count": 38,
   "metadata": {},
   "outputs": [
    {
     "name": "stdout",
     "output_type": "stream",
     "text": [
      "flussOracle: std_error=22.17\n",
      "fluss1: std_error=24.51\n",
      "fluss2: std_error=22.54\n",
      "fluss3: std_error=21.33\n",
      "fluss4: std_error=17.57\n",
      "fluss5: std_error=15.68\n",
      "flussEnsSum: std_error=24.59\n",
      "flussEnsMin: std_error=18.24\n"
     ]
    }
   ],
   "source": [
    "for name in df_scores.columns[1:]:\n",
    "    print(f\"{name}: std_error={np.round(df_scores[name].std() * 100, 2)}\")"
   ]
  },
  {
   "cell_type": "markdown",
   "metadata": {},
   "source": [
    "Let's compute the wins per method."
   ]
  },
  {
   "cell_type": "code",
   "execution_count": 39,
   "metadata": {},
   "outputs": [
    {
     "name": "stderr",
     "output_type": "stream",
     "text": [
      "/tmp/ipykernel_3315/3065857076.py:1: FutureWarning: Dropping of nuisance columns in DataFrame.rank is deprecated; in a future version this will raise TypeError. Select only valid columns before calling rank.\n",
      "  ranks = df_scores.rank(1, method = 'min', ascending=False)\n"
     ]
    }
   ],
   "source": [
    "ranks = df_scores.rank(1, method = 'min', ascending=False)\n",
    "means = np.array(ranks.mean(axis=0))"
   ]
  },
  {
   "cell_type": "code",
   "execution_count": 40,
   "metadata": {},
   "outputs": [
    {
     "name": "stdout",
     "output_type": "stream",
     "text": [
      "flussOracle:wins=5 rank=1.8\n",
      "fluss1:wins=6 rank=3.9\n",
      "fluss2:wins=0 rank=4.6\n",
      "fluss3:wins=2 rank=4.6\n",
      "fluss4:wins=3 rank=4.5\n",
      "fluss5:wins=0 rank=5.0\n",
      "flussEnsSum:wins=0 rank=5.6\n",
      "flussEnsMin:wins=4 rank=3.9\n"
     ]
    }
   ],
   "source": [
    "for mean, name in zip(means, df_scores.columns[1:]):\n",
    "    print(f\"{name}:wins={ranks[ranks[name] == 1].shape[0]} rank={np.round(mean, 1)}\")"
   ]
  },
  {
   "cell_type": "markdown",
   "metadata": {},
   "source": [
    "Let's plot and output the ranks."
   ]
  },
  {
   "cell_type": "code",
   "execution_count": 41,
   "metadata": {},
   "outputs": [],
   "source": [
    "cd = orange3score.compute_CD(means, df_scores.shape[0])\n",
    "orange3score.graph_ranks(avranks=means, names=df_scores.columns[1:], cd=cd, width=5, reverse=True, textspace=1.3, filename=\"./ranks_known_fixed_m_specific_data_characteristics.png\")\n"
   ]
  },
  {
   "cell_type": "code",
   "execution_count": 42,
   "metadata": {},
   "outputs": [
    {
     "name": "stdout",
     "output_type": "stream",
     "text": [
      "flussOracle: rank=1.84615\n",
      "fluss1: rank=3.92308\n",
      "fluss2: rank=4.61538\n",
      "fluss3: rank=4.61538\n",
      "fluss4: rank=4.46154\n",
      "fluss5: rank=5.0\n",
      "flussEnsSum: rank=5.61538\n",
      "flussEnsMin: rank=3.92308\n"
     ]
    }
   ],
   "source": [
    "for name, rank in zip(df_scores.columns[1:], means):\n",
    "    print(f\"{name}: rank={np.round(rank, 5)}\")"
   ]
  },
  {
   "attachments": {},
   "cell_type": "markdown",
   "metadata": {},
   "source": [
    "Let's compute wins/losses against the stumpy fluss algorithm (no dilation)."
   ]
  },
  {
   "cell_type": "code",
   "execution_count": 43,
   "metadata": {},
   "outputs": [
    {
     "name": "stdout",
     "output_type": "stream",
     "text": [
      "fluss1 vs flussOracle: (wins/losses/ties): 7/6/0\n",
      "fluss1 vs fluss2: (wins/losses/ties): 6/7/0\n",
      "fluss1 vs fluss3: (wins/losses/ties): 7/6/0\n",
      "fluss1 vs fluss4: (wins/losses/ties): 6/7/0\n",
      "fluss1 vs fluss5: (wins/losses/ties): 3/10/0\n",
      "fluss1 vs flussEnsSum: (wins/losses/ties): 4/9/0\n",
      "fluss1 vs flussEnsMin: (wins/losses/ties): 5/5/3\n"
     ]
    }
   ],
   "source": [
    "for rival in df_scores.columns[1:]:\n",
    "    if rival == \"fluss1\": continue\n",
    "    \n",
    "    df_pair = df_scores[[\"fluss1\", rival]]\n",
    "    pair_ranks = df_pair.rank(1, method = 'min', ascending=True)\n",
    "    \n",
    "    wins = pair_ranks[(pair_ranks[\"fluss1\"] == 1) & (pair_ranks[rival] == 2)].shape[0]\n",
    "    losses = pair_ranks[(pair_ranks[\"fluss1\"] == 2) & (pair_ranks[rival] == 1)].shape[0]\n",
    "    ties = pair_ranks[(pair_ranks[\"fluss1\"] == 1) & (pair_ranks[rival] == 1)].shape[0]\n",
    "    \n",
    "    assert wins + losses + ties == pair_ranks.shape[0]\n",
    "    \n",
    "    print(f\"fluss1 vs {rival}: (wins/losses/ties): {wins}/{losses}/{ties}\")"
   ]
  },
  {
   "cell_type": "code",
   "execution_count": 44,
   "metadata": {},
   "outputs": [
    {
     "name": "stderr",
     "output_type": "stream",
     "text": [
      "/tmp/ipykernel_3315/3886744767.py:8: MatplotlibDeprecationWarning: The label function was deprecated in Matplotlib 3.1 and will be removed in 3.8. Use Tick.label1 instead.\n",
      "  tick.label.set_fontsize(fontsize)\n",
      "/tmp/ipykernel_3315/3886744767.py:11: MatplotlibDeprecationWarning: The label function was deprecated in Matplotlib 3.1 and will be removed in 3.8. Use Tick.label1 instead.\n",
      "  tick.label.set_fontsize(fontsize)\n"
     ]
    },
    {
     "data": {
      "image/png": "[encoded data removed]",
      "text/plain": [
       "<Figure size 500x200 with 1 Axes>"
      ]
     },
     "metadata": {},
     "output_type": "display_data"
    }
   ],
   "source": [
    "fontsize = 12\n",
    "_, ax = plt.subplots(figsize=(5,2))\n",
    "\n",
    "df_scores.boxplot(ax=ax, rot=30)\n",
    "ax.set_ylabel(\"Covering\", fontsize=fontsize)\n",
    "\n",
    "for tick in ax.xaxis.get_major_ticks():\n",
    "    tick.label.set_fontsize(fontsize)\n",
    "\n",
    "for tick in ax.yaxis.get_major_ticks():\n",
    "    tick.label.set_fontsize(fontsize)\n",
    "\n",
    "plt.savefig(f\"./boxplot_known_fixed_m_specific_data_characteristics.png\", bbox_inches=\"tight\")"
   ]
  },
  {
   "cell_type": "markdown",
   "metadata": {
    "collapsed": false,
    "pycharm": {
     "name": "#%% md\n"
    }
   },
   "source": []
  }
 ],
 "metadata": {
  "kernelspec": {
   "display_name": "Python 3 (ipykernel)",
   "language": "python",
   "name": "python3"
  },
  "language_info": {
   "codemirror_mode": {
    "name": "ipython",
    "version": 3
   },
   "file_extension": ".py",
   "mimetype": "text/x-python",
   "name": "python",
   "nbconvert_exporter": "python",
   "pygments_lexer": "ipython3",
   "version": "3.10.4"
  }
 },
 "nbformat": 4,
 "nbformat_minor": 4
}
