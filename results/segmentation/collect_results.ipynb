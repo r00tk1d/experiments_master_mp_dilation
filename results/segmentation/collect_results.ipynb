{
 "cells": [
  {
   "cell_type": "code",
   "execution_count": 1,
   "metadata": {},
   "outputs": [],
   "source": [
    "import matplotlib.pyplot as plt\n",
    "import numpy as np\n",
    "import pandas as pd\n",
    "from tssb.utils import load_time_series_segmentation_datasets\n",
    "\n",
    "# data \n",
    "df_ts = load_time_series_segmentation_datasets()\n",
    "window_ranges = df_ts['window_size'].tolist()\n",
    "number_of_cps = [len(x)+1 for x in df_ts['change_points'].tolist()]\n",
    "ts_lengths = [len(x) for x in df_ts['time_series'].tolist()]\n"
   ]
  },
  {
   "cell_type": "code",
   "execution_count": 16,
   "metadata": {},
   "outputs": [],
   "source": [
    "# ensemble_min = pd.read_csv(\"segmentation_covering_unknown_stumpy_m_fluss_min.csv\")\n",
    "# all = pd.read_csv(\"_segmentation_covering_unknown_stumpy_m_fluss_ALL.csv\")\n",
    "\n",
    "# ensemble_min_col = ensemble_min['flussEnsMin']\n",
    "\n",
    "# result = pd.concat([all, ensemble_min_col], axis=1)\n",
    "# result\n",
    "# result.to_csv(\"_segmentation_covering_unknown_stumpy_m_fluss_ALL.csv\", index=False)\n"
   ]
  },
  {
   "cell_type": "code",
   "execution_count": 2,
   "metadata": {},
   "outputs": [
    {
     "name": "stderr",
     "output_type": "stream",
     "text": [
      "/tmp/ipykernel_33684/3386360147.py:5: FutureWarning: Dropping of nuisance columns in DataFrame reductions (with 'numeric_only=None') is deprecated; in a future version this will raise TypeError.  Select only valid columns before calling the reduction.\n",
      "  max_performance = df_scores_dilation.max(axis=1)\n",
      "/tmp/ipykernel_33684/3386360147.py:13: FutureWarning: Dropping of nuisance columns in DataFrame reductions (with 'numeric_only=None') is deprecated; in a future version this will raise TypeError.  Select only valid columns before calling the reduction.\n",
      "  max_performance = df_scores_dilation.max(axis=1)\n",
      "/tmp/ipykernel_33684/3386360147.py:21: FutureWarning: Dropping of nuisance columns in DataFrame reductions (with 'numeric_only=None') is deprecated; in a future version this will raise TypeError.  Select only valid columns before calling the reduction.\n",
      "  max_performance = df_scores_dilation.max(axis=1)\n",
      "/tmp/ipykernel_33684/3386360147.py:29: FutureWarning: Dropping of nuisance columns in DataFrame reductions (with 'numeric_only=None') is deprecated; in a future version this will raise TypeError.  Select only valid columns before calling the reduction.\n",
      "  max_performance = df_scores_dilation.max(axis=1)\n"
     ]
    }
   ],
   "source": [
    "# add best dilation ensemble for known fixed targetw\n",
    "df_scores = pd.read_csv(\"./segmentation_covering_known_stumpy_target_w.csv\")\n",
    "df_scores_known_target_w = df_scores.iloc[:, [0,7,8,9,10,11]]\n",
    "df_scores_dilation = df_scores.iloc[:, [0,8,9,10,11]]\n",
    "max_performance = df_scores_dilation.max(axis=1)\n",
    "df_scores_known_target_w.insert(1, 'flussOracle', max_performance)\n",
    "df_scores_known_target_w.to_csv(\"./segmentation_covering_known_stumpy_target_w_fluss.csv\", index=False)\n",
    "\n",
    "# add best dilation fluss for known fixed m\n",
    "df_scores = pd.read_csv(\"./segmentation_covering_known_stumpy_m.csv\")\n",
    "df_scores_known_m = df_scores.iloc[:, [0,7,8,9,10,11]]\n",
    "df_scores_dilation = df_scores.iloc[:, [0,8,9,10,11]]\n",
    "max_performance = df_scores_dilation.max(axis=1)\n",
    "df_scores_known_m.insert(1, 'flussOracle', max_performance)\n",
    "df_scores_known_m.to_csv(\"./segmentation_covering_known_stumpy_m_fluss.csv\", index=False)\n",
    "\n",
    "# add best dilation fluss for unknown fixed targetw\n",
    "df_scores = pd.read_csv(\"./segmentation_covering_unknown_stumpy_target_w.csv\")\n",
    "df_scores_unknown_target_w = df_scores.iloc[:, [0,8,9,10,11,12]]\n",
    "df_scores_dilation = df_scores.iloc[:, [0,9,10,11,12]]\n",
    "max_performance = df_scores_dilation.max(axis=1)\n",
    "df_scores_unknown_target_w.insert(1, 'flussOracle', max_performance)\n",
    "df_scores_unknown_target_w.to_csv(\"./segmentation_covering_unknown_stumpy_target_w_fluss.csv\", index=False)\n",
    "\n",
    "# add best dilation fluss for unknown fixed m\n",
    "df_scores = pd.read_csv(\"./segmentation_covering_unknown_stumpy_m.csv\")\n",
    "df_scores_unknown_m = df_scores.iloc[:, [0,8,9,10,11,12]]\n",
    "df_scores_dilation = df_scores.iloc[:, [0,9,10,11,12]]\n",
    "max_performance = df_scores_dilation.max(axis=1)\n",
    "df_scores_unknown_m.insert(1, 'flussOracle', max_performance)\n",
    "df_scores_unknown_m.to_csv(\"./segmentation_covering_unknown_stumpy_m_fluss.csv\", index=False)"
   ]
  }
 ],
 "metadata": {
  "kernelspec": {
   "display_name": "masterthesis",
   "language": "python",
   "name": "python3"
  },
  "language_info": {
   "codemirror_mode": {
    "name": "ipython",
    "version": 3
   },
   "file_extension": ".py",
   "mimetype": "text/x-python",
   "name": "python",
   "nbconvert_exporter": "python",
   "pygments_lexer": "ipython3",
   "version": "3.10.4"
  },
  "orig_nbformat": 4
 },
 "nbformat": 4,
 "nbformat_minor": 2
}
