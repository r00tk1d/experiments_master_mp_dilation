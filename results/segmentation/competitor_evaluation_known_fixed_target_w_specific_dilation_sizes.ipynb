{
 "cells": [
  {
   "attachments": {},
   "cell_type": "markdown",
   "metadata": {},
   "source": [
    "# Evaluation of the Results for known CPs with fixed target range w #\n",
    "Notebook from https://github.com/ermshaua/time-series-segmentation-benchmark/blob/main/tssb/notebooks/competitor_evaluation.ipynb. Slightly edited."
   ]
  },
  {
   "cell_type": "code",
   "execution_count": 81,
   "metadata": {},
   "outputs": [],
   "source": [
    "import numpy as np\n",
    "import pandas as pd\n",
    "\n",
    "import pandas as pd\n",
    "pd.set_option('display.max_rows', None)\n",
    "\n",
    "import matplotlib.pyplot as plt\n",
    "import seaborn as sns\n",
    "\n",
    "sns.set_theme()\n",
    "sns.set_color_codes()\n",
    "\n",
    "import sys\n",
    "sys.path.append(\"../../\")\n",
    "\n",
    "import orange3score\n",
    "from tssb.utils import load_time_series_segmentation_datasets"
   ]
  },
  {
   "cell_type": "markdown",
   "metadata": {},
   "source": [
    "Let's load the scores from the different methods."
   ]
  },
  {
   "cell_type": "code",
   "execution_count": 82,
   "metadata": {},
   "outputs": [
    {
     "data": {
      "text/html": [
       "<div>\n",
       "<style scoped>\n",
       "    .dataframe tbody tr th:only-of-type {\n",
       "        vertical-align: middle;\n",
       "    }\n",
       "\n",
       "    .dataframe tbody tr th {\n",
       "        vertical-align: top;\n",
       "    }\n",
       "\n",
       "    .dataframe thead th {\n",
       "        text-align: right;\n",
       "    }\n",
       "</style>\n",
       "<table border=\"1\" class=\"dataframe\">\n",
       "  <thead>\n",
       "    <tr style=\"text-align: right;\">\n",
       "      <th></th>\n",
       "      <th>dataset</th>\n",
       "      <th>flussOracle</th>\n",
       "      <th>fluss1</th>\n",
       "      <th>fluss2</th>\n",
       "      <th>fluss3</th>\n",
       "      <th>fluss4</th>\n",
       "      <th>fluss5</th>\n",
       "      <th>flussEnsSum</th>\n",
       "      <th>flussEnsMin</th>\n",
       "    </tr>\n",
       "  </thead>\n",
       "  <tbody>\n",
       "    <tr>\n",
       "      <th>37</th>\n",
       "      <td>LargeKitchenAppliances</td>\n",
       "      <td>0.964806</td>\n",
       "      <td>0.923315</td>\n",
       "      <td>0.546649</td>\n",
       "      <td>0.433951</td>\n",
       "      <td>0.964806</td>\n",
       "      <td>0.598826</td>\n",
       "      <td>0.510327</td>\n",
       "      <td>0.877001</td>\n",
       "    </tr>\n",
       "  </tbody>\n",
       "</table>\n",
       "</div>"
      ],
      "text/plain": [
       "                   dataset  flussOracle    fluss1    fluss2    fluss3  \\\n",
       "37  LargeKitchenAppliances     0.964806  0.923315  0.546649  0.433951   \n",
       "\n",
       "      fluss4    fluss5  flussEnsSum  flussEnsMin  \n",
       "37  0.964806  0.598826     0.510327     0.877001  "
      ]
     },
     "execution_count": 82,
     "metadata": {},
     "output_type": "execute_result"
    }
   ],
   "source": [
    "df_ts = load_time_series_segmentation_datasets()\n",
    "selected_rows = df_ts[df_ts['window_size'] == 100][\"dataset\"].tolist()\n",
    "selected_rows\n",
    "\n",
    "df_scores = pd.read_csv(\"./_segmentation_covering_known_stumpy_target_w_fluss_ALL.csv\")\n",
    "df_scores = df_scores[df_scores['dataset'].isin(selected_rows)]\n",
    "df_scores"
   ]
  },
  {
   "cell_type": "markdown",
   "metadata": {},
   "source": [
    "Let's calculate the mean/median/std error."
   ]
  },
  {
   "cell_type": "code",
   "execution_count": 83,
   "metadata": {},
   "outputs": [
    {
     "name": "stdout",
     "output_type": "stream",
     "text": [
      "flussOracle: mean_error=96.48\n",
      "fluss1: mean_error=92.33\n",
      "fluss2: mean_error=54.66\n",
      "fluss3: mean_error=43.4\n",
      "fluss4: mean_error=96.48\n",
      "fluss5: mean_error=59.88\n",
      "flussEnsSum: mean_error=51.03\n",
      "flussEnsMin: mean_error=87.7\n"
     ]
    }
   ],
   "source": [
    "for name in df_scores.columns[1:]:\n",
    "    print(f\"{name}: mean_error={np.round(df_scores[name].mean() * 100, 2)}\")"
   ]
  },
  {
   "cell_type": "code",
   "execution_count": 84,
   "metadata": {
    "collapsed": false,
    "pycharm": {
     "name": "#%%\n"
    }
   },
   "outputs": [
    {
     "name": "stdout",
     "output_type": "stream",
     "text": [
      "flussOracle: median_error=96.48\n",
      "fluss1: median_error=92.33\n",
      "fluss2: median_error=54.66\n",
      "fluss3: median_error=43.4\n",
      "fluss4: median_error=96.48\n",
      "fluss5: median_error=59.88\n",
      "flussEnsSum: median_error=51.03\n",
      "flussEnsMin: median_error=87.7\n"
     ]
    }
   ],
   "source": [
    "for name in df_scores.columns[1:]:\n",
    "    print(f\"{name}: median_error={np.round(df_scores[name].median() * 100, 2)}\")"
   ]
  },
  {
   "cell_type": "code",
   "execution_count": 85,
   "metadata": {},
   "outputs": [
    {
     "name": "stdout",
     "output_type": "stream",
     "text": [
      "flussOracle: std_error=nan\n",
      "fluss1: std_error=nan\n",
      "fluss2: std_error=nan\n",
      "fluss3: std_error=nan\n",
      "fluss4: std_error=nan\n",
      "fluss5: std_error=nan\n",
      "flussEnsSum: std_error=nan\n",
      "flussEnsMin: std_error=nan\n"
     ]
    }
   ],
   "source": [
    "for name in df_scores.columns[1:]:\n",
    "    print(f\"{name}: std_error={np.round(df_scores[name].std() * 100, 2)}\")"
   ]
  },
  {
   "cell_type": "markdown",
   "metadata": {},
   "source": [
    "Let's compute the wins per method."
   ]
  },
  {
   "cell_type": "code",
   "execution_count": 86,
   "metadata": {},
   "outputs": [
    {
     "name": "stderr",
     "output_type": "stream",
     "text": [
      "/tmp/ipykernel_50376/3065857076.py:1: FutureWarning: Dropping of nuisance columns in DataFrame.rank is deprecated; in a future version this will raise TypeError. Select only valid columns before calling rank.\n",
      "  ranks = df_scores.rank(1, method = 'min', ascending=False)\n"
     ]
    }
   ],
   "source": [
    "ranks = df_scores.rank(1, method = 'min', ascending=False)\n",
    "means = np.array(ranks.mean(axis=0))"
   ]
  },
  {
   "cell_type": "code",
   "execution_count": 87,
   "metadata": {},
   "outputs": [
    {
     "name": "stdout",
     "output_type": "stream",
     "text": [
      "flussOracle:wins=1 rank=1.0\n",
      "fluss1:wins=0 rank=3.0\n",
      "fluss2:wins=0 rank=6.0\n",
      "fluss3:wins=0 rank=8.0\n",
      "fluss4:wins=1 rank=1.0\n",
      "fluss5:wins=0 rank=5.0\n",
      "flussEnsSum:wins=0 rank=7.0\n",
      "flussEnsMin:wins=0 rank=4.0\n"
     ]
    }
   ],
   "source": [
    "for mean, name in zip(means, df_scores.columns[1:]):\n",
    "    print(f\"{name}:wins={ranks[ranks[name] == 1].shape[0]} rank={np.round(mean, 1)}\")\n"
   ]
  },
  {
   "cell_type": "markdown",
   "metadata": {},
   "source": [
    "Let's plot and output the ranks."
   ]
  },
  {
   "cell_type": "code",
   "execution_count": 88,
   "metadata": {},
   "outputs": [],
   "source": [
    "cd = orange3score.compute_CD(means, df_scores.shape[0])\n",
    "orange3score.graph_ranks(avranks=means, names=df_scores.columns[1:], cd=cd, width=5, reverse=True, textspace=1.3, filename=\"./ranks_known_fixed_target_w.png\")"
   ]
  },
  {
   "cell_type": "code",
   "execution_count": 89,
   "metadata": {},
   "outputs": [
    {
     "name": "stdout",
     "output_type": "stream",
     "text": [
      "flussOracle: rank=1.0\n",
      "fluss1: rank=3.0\n",
      "fluss2: rank=6.0\n",
      "fluss3: rank=8.0\n",
      "fluss4: rank=1.0\n",
      "fluss5: rank=5.0\n",
      "flussEnsSum: rank=7.0\n",
      "flussEnsMin: rank=4.0\n"
     ]
    }
   ],
   "source": [
    "for name, rank in zip(df_scores.columns[1:], means):\n",
    "    print(f\"{name}: rank={np.round(rank, 5)}\")"
   ]
  },
  {
   "cell_type": "markdown",
   "metadata": {},
   "source": [
    "Let's compute wins/losses against the best-ranking algorithm ClaSP."
   ]
  },
  {
   "cell_type": "code",
   "execution_count": 90,
   "metadata": {},
   "outputs": [],
   "source": [
    "# for rival in df_scores.columns[1:]:\n",
    "#     if rival == \"ClaSP\": continue\n",
    "    \n",
    "#     df_pair = df_scores[[\"ClaSP\", rival]]\n",
    "#     pair_ranks = df_pair.rank(1, method = 'min', ascending=True)\n",
    "    \n",
    "#     wins = pair_ranks[(pair_ranks[\"ClaSP\"] == 1) & (pair_ranks[rival] == 2)].shape[0]\n",
    "#     losses = pair_ranks[(pair_ranks[\"ClaSP\"] == 2) & (pair_ranks[rival] == 1)].shape[0]\n",
    "#     ties = pair_ranks[(pair_ranks[\"ClaSP\"] == 1) & (pair_ranks[rival] == 1)].shape[0]\n",
    "    \n",
    "#     assert wins + losses + ties == pair_ranks.shape[0]\n",
    "    \n",
    "#     print(f\"ClaSP vs {rival}: (wins/losses/ties): {wins}/{losses}/{ties}\")"
   ]
  },
  {
   "attachments": {},
   "cell_type": "markdown",
   "metadata": {},
   "source": [
    "Let's compute wins/losses against the stumpy fluss algorithm (no dilation)."
   ]
  },
  {
   "cell_type": "code",
   "execution_count": 91,
   "metadata": {},
   "outputs": [
    {
     "name": "stdout",
     "output_type": "stream",
     "text": [
      "fluss1 vs flussOracle: (wins/losses/ties): 1/0/0\n",
      "fluss1 vs fluss2: (wins/losses/ties): 0/1/0\n",
      "fluss1 vs fluss3: (wins/losses/ties): 0/1/0\n",
      "fluss1 vs fluss4: (wins/losses/ties): 1/0/0\n",
      "fluss1 vs fluss5: (wins/losses/ties): 0/1/0\n",
      "fluss1 vs flussEnsSum: (wins/losses/ties): 0/1/0\n",
      "fluss1 vs flussEnsMin: (wins/losses/ties): 0/1/0\n"
     ]
    }
   ],
   "source": [
    "for rival in df_scores.columns[1:]:\n",
    "    if rival == \"fluss1\": continue\n",
    "    \n",
    "    df_pair = df_scores[[\"fluss1\", rival]]\n",
    "    pair_ranks = df_pair.rank(1, method = 'min', ascending=True)\n",
    "    \n",
    "    wins = pair_ranks[(pair_ranks[\"fluss1\"] == 1) & (pair_ranks[rival] == 2)].shape[0]\n",
    "    losses = pair_ranks[(pair_ranks[\"fluss1\"] == 2) & (pair_ranks[rival] == 1)].shape[0]\n",
    "    ties = pair_ranks[(pair_ranks[\"fluss1\"] == 1) & (pair_ranks[rival] == 1)].shape[0]\n",
    "    \n",
    "    assert wins + losses + ties == pair_ranks.shape[0]\n",
    "    \n",
    "    print(f\"fluss1 vs {rival}: (wins/losses/ties): {wins}/{losses}/{ties}\")"
   ]
  },
  {
   "cell_type": "code",
   "execution_count": 92,
   "metadata": {},
   "outputs": [
    {
     "name": "stderr",
     "output_type": "stream",
     "text": [
      "/tmp/ipykernel_50376/4256861775.py:8: MatplotlibDeprecationWarning: The label function was deprecated in Matplotlib 3.1 and will be removed in 3.8. Use Tick.label1 instead.\n",
      "  tick.label.set_fontsize(fontsize)\n",
      "/tmp/ipykernel_50376/4256861775.py:11: MatplotlibDeprecationWarning: The label function was deprecated in Matplotlib 3.1 and will be removed in 3.8. Use Tick.label1 instead.\n",
      "  tick.label.set_fontsize(fontsize)\n"
     ]
    },
    {
     "data": {
      "image/png": "[encoded data removed]",
      "text/plain": [
       "<Figure size 500x200 with 1 Axes>"
      ]
     },
     "metadata": {},
     "output_type": "display_data"
    }
   ],
   "source": [
    "fontsize = 12\n",
    "_, ax = plt.subplots(figsize=(5,2))\n",
    "\n",
    "df_scores.boxplot(ax=ax, rot=30)\n",
    "ax.set_ylabel(\"Covering\", fontsize=fontsize)\n",
    "\n",
    "for tick in ax.xaxis.get_major_ticks():\n",
    "    tick.label.set_fontsize(fontsize)\n",
    "\n",
    "for tick in ax.yaxis.get_major_ticks():\n",
    "    tick.label.set_fontsize(fontsize)\n",
    "\n",
    "plt.savefig(f\"./boxplot_known_fixed_target_w.png\", bbox_inches=\"tight\")"
   ]
  },
  {
   "cell_type": "markdown",
   "metadata": {
    "collapsed": false,
    "pycharm": {
     "name": "#%% md\n"
    }
   },
   "source": []
  }
 ],
 "metadata": {
  "kernelspec": {
   "display_name": "Python 3 (ipykernel)",
   "language": "python",
   "name": "python3"
  },
  "language_info": {
   "codemirror_mode": {
    "name": "ipython",
    "version": 3
   },
   "file_extension": ".py",
   "mimetype": "text/x-python",
   "name": "python",
   "nbconvert_exporter": "python",
   "pygments_lexer": "ipython3",
   "version": "3.10.4"
  }
 },
 "nbformat": 4,
 "nbformat_minor": 4
}
