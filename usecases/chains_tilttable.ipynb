{
 "cells": [
  {
   "attachments": {},
   "cell_type": "markdown",
   "metadata": {},
   "source": [
    "# Chain (directional trend) # \n",
    "Every pair of consecutive subsequences in a chain must be connected by both a forward arrow and a backward arrow. The key component of drifting is that the time series must contain chains with clear directionality\n",
    "\n",
    "Stumpy Tutorial Time Series Chains:\n",
    "https://stumpy.readthedocs.io/en/latest/Tutorial_Time_Series_Chains.html\n",
    "\n",
    "Matrix Profile VII: Time Series Chains:\n",
    "https://sites.google.com/site/timeserieschain/\n",
    "\n",
    "Robust Time Series Chain Discovery with Incremental Nearest Neighbors:\n",
    "https://sites.google.com/view/robust-time-series-chain-22 "
   ]
  },
  {
   "cell_type": "code",
   "execution_count": 9,
   "metadata": {},
   "outputs": [],
   "source": [
    "import helper.testdata as testdata\n",
    "import helper.utils as utils\n",
    "import helper.calculate as calculate\n",
    "import helper.visualize as visualize"
   ]
  },
  {
   "attachments": {},
   "cell_type": "markdown",
   "metadata": {},
   "source": [
    "# --> Results (Paper vs. Here) are different (no dilation)! #\n",
    "with the snippet dataset from Robust Time Series Chain Discovery with Incremental Nearest Neighbors (see chains_tilttable.ipynb), the results are the same."
   ]
  },
  {
   "attachments": {},
   "cell_type": "markdown",
   "metadata": {},
   "source": [
    "## TiltABP_210_25000 Data (MP VII) ##\n",
    "The arterial blood pressure (ABP) signal of a patient lying on a tilt table.\n",
    "\n",
    "m = 180, length of a cardiac cycle (Robust Time Series Chain Discovery with Incremental Nearest Neighbors) --> Results (Paper vs. Here) are different (no dilation)!\n",
    "\n",
    "m = 200 (MP VII) --> Results (Paper vs. Here) are different (no dilation)!\n",
    "\n",
    "m = 205 (own testing) --> Results (Paper vs. Here) are the same(?)"
   ]
  },
  {
   "cell_type": "code",
   "execution_count": 10,
   "metadata": {},
   "outputs": [],
   "source": [
    "# Parameter\n",
    "use_case = \"chains\"\n",
    "data_name = \"tilttable\"\n",
    "T = testdata.load_from_txt(\"../data/\" + use_case + \"/\" + data_name + \".txt\")\n",
    "ground_truth = None # if ground_truth=None, the ground_truth is set to the unanchored chain without dilation"
   ]
  },
  {
   "attachments": {},
   "cell_type": "markdown",
   "metadata": {},
   "source": [
    "### Experiments ###"
   ]
  },
  {
   "cell_type": "code",
   "execution_count": 11,
   "metadata": {},
   "outputs": [
    {
     "name": "stdout",
     "output_type": "stream",
     "text": [
      "Dilation Sizes: [1, 2, 3, 4, 5, 6, 7, 8, 9, 10, 11, 12, 13, 14, 15]\n"
     ]
    }
   ],
   "source": [
    "# Hyperparameter\n",
    "target_w = None\n",
    "m = 205\n",
    "offset = True # if offset=True, the chains with dilation are calculated with a starting offset of the chain without dilation\n",
    "max_dilation = utils.calculate_max_d_from_m(m, len(T), max_d=15) if target_w is None else utils.calculate_max_d_from_target_w(target_w)\n",
    "\n",
    "print(\"Dilation Sizes:\", [i for i in range(1, max_dilation+1)])"
   ]
  },
  {
   "cell_type": "code",
   "execution_count": 12,
   "metadata": {},
   "outputs": [
    {
     "name": "stdout",
     "output_type": "stream",
     "text": [
      "Calculated MP for: w=205, m=205, d=1, offset=0, groundtruthD1=True\n",
      "Calculated MP for: w=409, m=205, d=2, offset=25233, groundtruthD1=True\n",
      "Calculated MP for: w=613, m=205, d=3, offset=25233, groundtruthD1=True\n",
      "Calculated MP for: w=817, m=205, d=4, offset=25233, groundtruthD1=True\n",
      "Calculated MP for: w=1021, m=205, d=5, offset=25233, groundtruthD1=True\n",
      "Calculated MP for: w=1225, m=205, d=6, offset=25233, groundtruthD1=True\n",
      "Calculated MP for: w=1429, m=205, d=7, offset=25233, groundtruthD1=True\n",
      "Calculated MP for: w=1633, m=205, d=8, offset=25233, groundtruthD1=True\n",
      "Calculated MP for: w=1837, m=205, d=9, offset=25233, groundtruthD1=True\n",
      "Calculated MP for: w=2041, m=205, d=10, offset=25233, groundtruthD1=True\n",
      "Calculated MP for: w=2245, m=205, d=11, offset=25233, groundtruthD1=True\n",
      "Calculated MP for: w=2449, m=205, d=12, offset=25233, groundtruthD1=True\n",
      "Calculated MP for: w=2653, m=205, d=13, offset=25233, groundtruthD1=True\n",
      "Calculated MP for: w=2857, m=205, d=14, offset=25233, groundtruthD1=True\n",
      "Calculated MP for: w=3061, m=205, d=15, offset=25233, groundtruthD1=True\n"
     ]
    }
   ],
   "source": [
    "# calculate\n",
    "calculate.chains(T, max_dilation, data_name, use_case, ground_truth, offset, target_w, m)"
   ]
  },
  {
   "cell_type": "code",
   "execution_count": null,
   "metadata": {},
   "outputs": [],
   "source": [
    "# visualize:\n",
    "visualize.chains(max_dilation, data_name, use_case, offset, target_w, m, ground_truth)"
   ]
  }
 ],
 "metadata": {
  "kernelspec": {
   "display_name": "masterthesis",
   "language": "python",
   "name": "python3"
  },
  "language_info": {
   "codemirror_mode": {
    "name": "ipython",
    "version": 3
   },
   "file_extension": ".py",
   "mimetype": "text/x-python",
   "name": "python",
   "nbconvert_exporter": "python",
   "pygments_lexer": "ipython3",
   "version": "3.10.4"
  },
  "orig_nbformat": 4,
  "vscode": {
   "interpreter": {
    "hash": "c63f775a29077d88326ae6f063688ea24fd4744bb6810a004c04d9663ba131b5"
   }
  }
 },
 "nbformat": 4,
 "nbformat_minor": 2
}
