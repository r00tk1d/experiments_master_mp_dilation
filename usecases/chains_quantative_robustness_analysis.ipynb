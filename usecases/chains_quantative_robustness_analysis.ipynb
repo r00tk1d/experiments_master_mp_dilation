{
 "cells": [
  {
   "attachments": {},
   "cell_type": "markdown",
   "metadata": {},
   "source": [
    "# Chain (directional trend) # \n",
    "Every pair of consecutive subsequences in a chain must be connected by both a forward arrow and a backward arrow. The key component of drifting is that the time series must contain chains with clear directionality\n",
    "\n",
    "Stumpy Tutorial Time Series Chains:\n",
    "https://stumpy.readthedocs.io/en/latest/Tutorial_Time_Series_Chains.html\n",
    "\n",
    "Matrix Profile VII: Time Series Chains Calibration Instruction:\n",
    "https://docs.google.com/presentation/d/1-jEynFIkjDR88QFtbHN2Iz8DXY8wMVet/edit#slide=id.p1\n",
    "\n",
    "Robust Time Series Chain Discovery with Incremental Nearest Neighbors:\n",
    "https://sites.google.com/view/robust-time-series-chain-22 "
   ]
  },
  {
   "cell_type": "code",
   "execution_count": 1,
   "metadata": {},
   "outputs": [],
   "source": [
    "import core.testdata as testdata\n",
    "import core.utils as utils\n",
    "import core.calculate as calculate\n",
    "import core.visualize as visualize\n",
    "import core.results as results\n",
    "\n",
    "import pandas as pd"
   ]
  },
  {
   "attachments": {},
   "cell_type": "markdown",
   "metadata": {},
   "source": [
    "## Chain Robustness (Robustness Paper) ##\n",
    "\n",
    "recall and precision: hits are with overlap > 50%"
   ]
  },
  {
   "cell_type": "code",
   "execution_count": 2,
   "metadata": {},
   "outputs": [],
   "source": [
    "# Parameter\n",
    "use_case = \"chains\"\n",
    "data_names = ['BME_1', 'BME_2', 'BME_3', 'BME_4', 'BME_5', 'CBF_1', 'CBF_2', 'CBF_3', 'CBF_4', 'CBF_5', 'ChlorineConcentration_1', 'ChlorineConcentration_2', 'ChlorineConcentration_3', 'ChlorineConcentration_4', 'ChlorineConcentration_5', 'ECG200_1', 'ECG200_2', 'ECG200_3', 'ECG200_4', 'ECG200_5', 'ECG5000_1', 'ECG5000_2', 'ECG5000_3', 'ECG5000_4', 'ECG5000_5', 'ECGFiveDays_1', 'ECGFiveDays_2', 'ECGFiveDays_3', 'ECGFiveDays_4', 'ECGFiveDays_5', 'FreezerRegularTrain_1', 'FreezerRegularTrain_2', 'FreezerRegularTrain_3', 'FreezerRegularTrain_4', 'FreezerRegularTrain_5', 'FreezerSmallTrain_1', 'FreezerSmallTrain_2', 'FreezerSmallTrain_3', 'FreezerSmallTrain_4', 'FreezerSmallTrain_5', 'Lightning7_1', 'Lightning7_2', 'Lightning7_3', 'Lightning7_4', 'Lightning7_5', 'Plane_1', 'Plane_2', 'Plane_3', 'Plane_4', 'Plane_5', 'SonyAIBORobotSurface1_1', 'SonyAIBORobotSurface1_2', 'SonyAIBORobotSurface1_3', 'SonyAIBORobotSurface1_4', 'SonyAIBORobotSurface1_5', 'SonyAIBORobotSurface2_1', 'SonyAIBORobotSurface2_2', 'SonyAIBORobotSurface2_3', 'SonyAIBORobotSurface2_4', 'SonyAIBORobotSurface2_5', 'Trace_1', 'Trace_2', 'Trace_3', 'Trace_4', 'Trace_5', 'TwoLeadECG_1', 'TwoLeadECG_2', 'TwoLeadECG_3', 'TwoLeadECG_4', 'TwoLeadECG_5', 'TwoPatterns_1', 'TwoPatterns_2', 'TwoPatterns_3', 'TwoPatterns_4', 'TwoPatterns_5', 'UMD_1', 'UMD_2', 'UMD_3', 'UMD_4', 'UMD_5', 'Wafer_1', 'Wafer_2', 'Wafer_3', 'Wafer_4', 'Wafer_5']\n"
   ]
  },
  {
   "cell_type": "code",
   "execution_count": 3,
   "metadata": {},
   "outputs": [
    {
     "name": "stdout",
     "output_type": "stream",
     "text": [
      "Dilation Sizes: [1, 2]\n",
      "Running Experiment: target_w=128, m=None, offset=False, groundtruthD1=False, nonoverlapping=False\n",
      "Calculated MP for: w=128, m=128, d=1, offset=0, groundtruthD1=False, nonoverlapping=False\n",
      "Calculated MP for: w=129, m=65, d=2, offset=0, groundtruthD1=False, nonoverlapping=False\n",
      "Dilation Sizes: [1, 2]\n",
      "Running Experiment: target_w=128, m=None, offset=False, groundtruthD1=False, nonoverlapping=False\n",
      "Calculated MP for: w=128, m=128, d=1, offset=0, groundtruthD1=False, nonoverlapping=False\n",
      "Calculated MP for: w=129, m=65, d=2, offset=0, groundtruthD1=False, nonoverlapping=False\n",
      "Dilation Sizes: [1, 2]\n",
      "Running Experiment: target_w=128, m=None, offset=False, groundtruthD1=False, nonoverlapping=False\n",
      "Calculated MP for: w=128, m=128, d=1, offset=0, groundtruthD1=False, nonoverlapping=False\n",
      "Calculated MP for: w=129, m=65, d=2, offset=0, groundtruthD1=False, nonoverlapping=False\n"
     ]
    }
   ],
   "source": [
    "max_dilation = 2\n",
    "\n",
    "cols = ['dataname']\n",
    "dilation_sizes = [\"d\"+str(d+1) for d in range(max_dilation)]\n",
    "cols += dilation_sizes\n",
    "\n",
    "recall_table = pd.DataFrame(columns=cols)\n",
    "precision_table = pd.DataFrame(columns=cols)\n",
    "f1_table = pd.DataFrame(columns=cols)\n",
    "\n",
    "# Bulk Experiment\n",
    "for count, data_name in enumerate(data_names):\n",
    "    print(f'Starting Experiment {count}/{len(data_names)}: {data_name}')\n",
    "    T = testdata.load_from_mat(\"../data/\" + use_case + \"/robustness/ts/\" + data_name + \".mat\", \"ts\")\n",
    "    l = testdata.load_from_mat(\"../data/\" + use_case + \"/robustness/ts/\" + data_name + \".mat\", \"l\")\n",
    "\n",
    "    ground_truth = testdata.load_gt(\"../data/\" + use_case + \"/robustness/gt/\" + data_name + \".mat\", \"idx_tsc\")\n",
    "\n",
    "    # Hyperparameter\n",
    "    target_w = int(l)\n",
    "    m = None\n",
    "    non_overlapping = False # if True, overlapping chains are filtered\n",
    "    offset = False # if offset=True, the chains with dilation are calculated with a starting offset of the chain without dilation\n",
    "\n",
    "    # calculate\n",
    "    calculate.chains(T, max_dilation, data_name, use_case, ground_truth, offset, non_overlapping, target_w, m)\n",
    "\n",
    "    # evaluate\n",
    "    recalls, precisions, f1_scores = utils.get_metrics_for_experiment(max_dilation, data_name, use_case, offset, non_overlapping, target_w, m, ground_truth)\n",
    "    recall_row = [data_name] + recalls\n",
    "    recall_table.loc[len(recall_table)] = recall_row\n",
    "    precision_row = [data_name] + precisions\n",
    "    precision_table.loc[len(precision_table)] = precision_row\n",
    "    f1_row = [data_name] + f1_scores\n",
    "    f1_table.loc[len(f1_table)] = precision_row\n",
    "\n",
    "\n",
    "    # visualize:\n",
    "    print(f'Ground Truth Chain: {ground_truth}')\n",
    "    visualize.chains(max_dilation, data_name, use_case, offset, non_overlapping, target_w, m, ground_truth, visualize_chains=False)\n",
    "results.save_stats(recall_table, \"../results/chains/recalls.csv\")\n",
    "results.save_stats(precision_table, \"../results/chains/recalls.csv\")\n",
    "results.save_stats(f1_table, \"../results/chains/recalls.csv\")"
   ]
  },
  {
   "cell_type": "code",
   "execution_count": 4,
   "metadata": {},
   "outputs": [
    {
     "name": "stdout",
     "output_type": "stream",
     "text": [
      "21\n"
     ]
    }
   ],
   "source": [
    "max_dilation = utils.calculate_max_d_from_m(275, 6000, max_d=100)\n",
    "print(max_dilation)"
   ]
  }
 ],
 "metadata": {
  "kernelspec": {
   "display_name": "masterthesis",
   "language": "python",
   "name": "python3"
  },
  "language_info": {
   "codemirror_mode": {
    "name": "ipython",
    "version": 3
   },
   "file_extension": ".py",
   "mimetype": "text/x-python",
   "name": "python",
   "nbconvert_exporter": "python",
   "pygments_lexer": "ipython3",
   "version": "3.10.4"
  },
  "orig_nbformat": 4,
  "vscode": {
   "interpreter": {
    "hash": "c63f775a29077d88326ae6f063688ea24fd4744bb6810a004c04d9663ba131b5"
   }
  }
 },
 "nbformat": 4,
 "nbformat_minor": 2
}
