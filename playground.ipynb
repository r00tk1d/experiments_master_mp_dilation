{
 "cells": [
  {
   "cell_type": "code",
   "execution_count": 1,
   "metadata": {},
   "outputs": [],
   "source": [
    "import stumpy\n",
    "import numpy as np\n",
    "import matplotlib.pyplot as plt\n",
    "from matplotlib.patches import Rectangle"
   ]
  },
  {
   "cell_type": "code",
   "execution_count": 3,
   "metadata": {},
   "outputs": [
    {
     "name": "stderr",
     "output_type": "stream",
     "text": [
      "/vol/fob-vol3/mi20/hirschmi/mp_dilation_master/stumpy_master_mp_dilation/stumpy/core.py:67: UserWarning: Excluding `['normalize', 'p']` parameters, function `stump_dil(['T_A', 'm', 'T_B', 'ignore_trivial', 'k', 'd']) and function `aamp(['T_A', 'm', 'T_B', 'ignore_trivial', 'k']) have different arguments/parameters.\n",
      "  warnings.warn(msg)\n"
     ]
    },
    {
     "name": "stdout",
     "output_type": "stream",
     "text": [
      "[[0.0 6 -1 6]\n",
      " [0.725621964223909 6 0 5]\n",
      " [0.5749199116934414 7 -1 7]\n",
      " [0.1424943043046124 4 2 7]\n",
      " [0.1424943043046124 3 0 8]\n",
      " [0.7889556659397083 6 0 -1]\n",
      " [0.0 0 0 7]\n",
      " [0.5749199116934414 2 2 -1]\n",
      " [0.574919911693439 4 4 -1]]\n"
     ]
    }
   ],
   "source": [
    "T_A = np.array([1, 0, 3, 9, 2, 1, 1, 15, 3, 14, 2, 10, 7]).astype(np.float64)\n",
    "# T_A = np.array([1, 0, 3, 9, 2, 1, 1, 3, 6, 2]).astype(np.float64)\n",
    "# T_B = np.array([1, 0, 3, 9, 2, 1, 1, 15]).astype(np.float64)\n",
    "m = 3\n",
    "d = 2\n",
    "\n",
    "mp_orig = stumpy.stump_dil(T_A=T_A, m=m, d=d)\n",
    "print(mp_orig)"
   ]
  },
  {
   "cell_type": "code",
   "execution_count": 2,
   "metadata": {},
   "outputs": [
    {
     "name": "stdout",
     "output_type": "stream",
     "text": [
      "[[0.0 7 -1 7]\n",
      " [0.3288114408414133 8 -1 8]\n",
      " [0.0 6 0 6]\n",
      " [0.3288114408414133 0 0 7]\n",
      " [0.09921547503779264 12 1 12]\n",
      " [1.3946067503040966 13 2 13]\n",
      " [0.0 2 2 11]\n",
      " [0.0 0 0 9]\n",
      " [0.3288114408414133 1 1 12]\n",
      " [0.7997306517513353 3 3 11]\n",
      " [0.3589616108906294 12 4 12]\n",
      " [0.13015840458292768 6 6 13]\n",
      " [0.09921547503779264 4 4 14]\n",
      " [0.4461606220875056 11 11 -1]\n",
      " [0.9147863787458559 10 10 -1]]\n"
     ]
    },
    {
     "name": "stderr",
     "output_type": "stream",
     "text": [
      "/vol/fob-vol3/mi20/hirschmi/mp_dilation_master/stumpy_master_mp_dilation/stumpy/core.py:67: UserWarning: Excluding `['normalize', 'p']` parameters, function `stump_dil(['T_A', 'm', 'T_B', 'ignore_trivial', 'k', 'd']) and function `aamp(['T_A', 'm', 'T_B', 'ignore_trivial', 'k']) have different arguments/parameters.\n",
      "  warnings.warn(msg)\n"
     ]
    },
    {
     "name": "stdout",
     "output_type": "stream",
     "text": [
      "[[0.0 7 -1 7]\n",
      " [0.3288114408414133 8 -1 8]\n",
      " [0.0 6 0 6]\n",
      " [0.3288114408414133 0 0 7]\n",
      " [0.09921547503779264 12 1 12]\n",
      " [1.3946067503040966 13 2 13]\n",
      " [0.0 2 2 11]\n",
      " [0.0 0 0 9]\n",
      " [0.3288114408414133 1 1 12]\n",
      " [0.7997306517513353 3 3 11]\n",
      " [0.3589616108906294 12 4 12]\n",
      " [0.13015840458292768 6 6 13]\n",
      " [0.09921547503779264 4 4 14]\n",
      " [0.4461606220875056 11 11 -1]\n",
      " [0.9147863787458559 10 10 -1]]\n"
     ]
    }
   ],
   "source": [
    "T_A = np.array([1, 2, 3, 0, 3, 9, 2, 1, 2, 3, 1, 15, 3, 14, 2, 10, 7]).astype(np.float64)\n",
    "m = 3\n",
    "mp = stumpy.stump(T_A=T_A, m=m)\n",
    "print(mp)\n",
    "\n",
    "d=1\n",
    "mp_dil = stumpy.stump_dil(T_A=T_A, m=m, d=d)\n",
    "print(mp_dil)"
   ]
  },
  {
   "cell_type": "code",
   "execution_count": 2,
   "metadata": {},
   "outputs": [
    {
     "name": "stdout",
     "output_type": "stream",
     "text": [
      "TS: [ 1.  0.  3.  9.  2.  1.  1. 15.  3. 14.  2. 10.  7.]\n",
      "Index: [ 0  1  2  3  4  5  6  7  8  9 10 11 12]\n",
      "TS dilated: [ 1.  3.  2.  1.  3.  2.  7.  0.  9.  1. 15. 14. 10.]\n",
      "Index dilated: [ 0  2  4  6  8 10 12  1  3  5  7  9 11]\n",
      "MP dilated unfixed:  [[0.0 3 -1 3]\n",
      " [0.5749199116934414 10 -1 10]\n",
      " [0.1424943043046124 8 0 8]\n",
      " [0.0 0 0 7]\n",
      " [0.574919911693439 2 2 8]\n",
      " [0.6585969196219232 7 3 7]\n",
      " [0.39420922977028316 8 2 8]\n",
      " [0.6585969196219232 5 5 9]\n",
      " [0.1424943043046124 2 2 10]\n",
      " [0.7889556659397083 3 3 -1]\n",
      " [0.5749199116934414 1 1 -1]]\n",
      "Index dilated fixed: [ 0  4  8 12  3  7 11  2  6 10  1  5  9]\n",
      "MP dilated fixed: [[0.0 3 -1 3]\n",
      " [0.1424943043046124 8 0 8]\n",
      " [0.574919911693439 2 2 8]\n",
      " [0.39420922977028316 8 2 8]\n",
      " [0.1424943043046124 2 2 10]\n",
      " [0.5749199116934414 1 1 -1]\n",
      " [0.5749199116934414 10 -1 10]\n",
      " [0.0 0 0 7]\n",
      " [0.6585969196219232 7 3 7]\n",
      " [0.6585969196219232 5 5 9]\n",
      " [0.7889556659397083 3 3 -1]]\n"
     ]
    }
   ],
   "source": [
    "\n",
    "# Arguments:\n",
    "ts = np.array([1, 0, 3, 9, 2, 1, 1, 15, 3, 14, 2, 10, 7]).astype(np.float64)\n",
    "index_original = np.array([0,1,2,3,4,5,6,7,8,9,10,11,12])\n",
    "window_size = 3\n",
    "d = 2\n",
    "\n",
    "# mp_orig = stumpy.stump(ts, m=window_size, ignore_trivial=False, d=d)\n",
    "\n",
    "def dilation_mapping(X: np.ndarray, d: int) -> np.ndarray:\n",
    "    result = X[0::d]\n",
    "    for i in range(1, d):\n",
    "        next = X[i::d]\n",
    "        result = np.concatenate((result, next))\n",
    "    return result\n",
    "\n",
    "\n",
    "# 1. TS -dilationMaping-> dilated TS\n",
    "ts_d = dilation_mapping(ts, d)\n",
    "index_dilated = dilation_mapping(index_original, d)\n",
    "print(f\"TS: {ts}\")\n",
    "print(f\"Index: {index_original}\")\n",
    "print(f\"TS dilated: {ts_d}\")\n",
    "print(f\"Index dilated: {index_dilated}\")\n",
    "\n",
    "# 2. dilated TS, m -stumpy-> MP \n",
    "mp_dilated_unfixed = stumpy.stump(ts_d, m=window_size)\n",
    "print(f\"MP dilated unfixed:  {mp_dilated_unfixed}\")\n",
    "\n",
    "# 3. MP, NNIndex -dilationMapping-> fixedMP                            muss hier auch MP nochmal gemappt werden?\n",
    "mp_dilated_fixed = dilation_mapping(mp_dilated_unfixed, d)\n",
    "index_dilated_fixed = dilation_mapping(index_dilated, d)\n",
    "print(f\"Index dilated fixed: {index_dilated_fixed}\")\n",
    "print(f\"MP dilated fixed: {mp_dilated_fixed}\")\n",
    "\n",
    "# 4. Test Use Cases\n",
    "# ...\n",
    "\n",
    "\n",
    "\n",
    "# mp[mp_idx, 0] -> Euclidean Distance\n",
    "# mp[mp_idx, 1] -> Index Nearest Neighbor\n",
    "# mp[mp_idx, 2] -> Index “left” Nearest Neighbor\n",
    "# mp[mp_idx, 3] -> Index “right” Nearest Neighbor"
   ]
  },
  {
   "attachments": {},
   "cell_type": "markdown",
   "metadata": {},
   "source": [
    "### Visualise Discord and Motif Pair ###"
   ]
  },
  {
   "cell_type": "code",
   "execution_count": 12,
   "metadata": {},
   "outputs": [
    {
     "ename": "NameError",
     "evalue": "name 'mp_orig' is not defined",
     "output_type": "error",
     "traceback": [
      "\u001b[0;31m---------------------------------------------------------------------------\u001b[0m",
      "\u001b[0;31mNameError\u001b[0m                                 Traceback (most recent call last)",
      "Cell \u001b[0;32mIn[12], line 1\u001b[0m\n\u001b[0;32m----> 1\u001b[0m mp \u001b[39m=\u001b[39m mp_orig\n\u001b[1;32m      3\u001b[0m \u001b[39mdef\u001b[39;00m \u001b[39mvisualise_discord\u001b[39m(mp):\n\u001b[1;32m      4\u001b[0m     \u001b[39m# the global maximum from the matrix profile correspond to the discord\u001b[39;00m\n\u001b[1;32m      5\u001b[0m     discord_idx \u001b[39m=\u001b[39m np\u001b[39m.\u001b[39margsort(mp[:, \u001b[39m0\u001b[39m])[\u001b[39m-\u001b[39m\u001b[39m1\u001b[39m] \u001b[39m# startindex of discord with length m\u001b[39;00m\n",
      "\u001b[0;31mNameError\u001b[0m: name 'mp_orig' is not defined"
     ]
    }
   ],
   "source": [
    "mp = mp_orig\n",
    "\n",
    "def visualise_discord(mp):\n",
    "    # the global maximum from the matrix profile correspond to the discord\n",
    "    discord_idx = np.argsort(mp[:, 0])[-1] # startindex of discord with length m\n",
    "\n",
    "    ## Visualize Discord ##\n",
    "    fig, axs = plt.subplots(2, sharex=True, gridspec_kw={'hspace': 0})\n",
    "    plt.suptitle('Discord (Anomaly/Novelty) Discovery', fontsize='30')\n",
    "\n",
    "    axs[0].plot(ts)\n",
    "    axs[0].set_ylabel('Sample TS', fontsize='20')\n",
    "    rect = Rectangle((discord_idx, 0), window_size, np.amax(ts), facecolor='lightgrey')\n",
    "    axs[0].add_patch(rect)\n",
    "    axs[1].set_xlabel('Time', fontsize ='20')\n",
    "    axs[1].set_ylabel('Matrix Profile', fontsize='20')\n",
    "    axs[1].axvline(x=discord_idx, linestyle=\"dashed\")\n",
    "    axs[1].plot(mp[:, 0])\n",
    "    plt.show()\n",
    "def visualise_motif_pair(mp) -> None:\n",
    "    # the global minima from the matrix profile correspond to the locations of the two subsequences that make up the motif pair\n",
    "    motif_idx = np.argsort(mp[:, 0])[0] # startindex of motif with length m\n",
    "    motif_nearest_neighbor_idx = mp[motif_idx, 1] # startindex of motif with length m\n",
    "\n",
    "    ## Visualize Motifs ##\n",
    "    fig, axs = plt.subplots(2, sharex=True, gridspec_kw={'hspace': 0})\n",
    "    plt.suptitle('Motif (Pattern) Discovery', fontsize='30')\n",
    "\n",
    "    axs[0].plot(ts)\n",
    "    axs[0].set_ylabel('Sample TS', fontsize='20')\n",
    "    rect = Rectangle((motif_idx, 0), window_size, np.amax(ts), facecolor='lightgrey')\n",
    "    axs[0].add_patch(rect)\n",
    "    rect = Rectangle((motif_nearest_neighbor_idx, 0), window_size, np.amax(ts), facecolor='lightgrey')\n",
    "    axs[0].add_patch(rect)\n",
    "    axs[1].set_xlabel('Time', fontsize ='20')\n",
    "    axs[1].set_ylabel('Matrix Profile', fontsize='20')\n",
    "    axs[1].axvline(x=motif_idx, linestyle=\"dashed\")\n",
    "    axs[1].axvline(x=motif_nearest_neighbor_idx, linestyle=\"dashed\")\n",
    "    axs[1].plot(mp[:, 0])\n",
    "    plt.show()\n",
    "\n",
    "visualise_discord(mp)\n",
    "visualise_motif_pair(mp)"
   ]
  }
 ],
 "metadata": {
  "kernelspec": {
   "display_name": "masterthesis",
   "language": "python",
   "name": "python3"
  },
  "language_info": {
   "codemirror_mode": {
    "name": "ipython",
    "version": 3
   },
   "file_extension": ".py",
   "mimetype": "text/x-python",
   "name": "python",
   "nbconvert_exporter": "python",
   "pygments_lexer": "ipython3",
   "version": "3.10.4 (main, Mar 31 2022, 08:41:55) [GCC 7.5.0]"
  },
  "orig_nbformat": 4,
  "vscode": {
   "interpreter": {
    "hash": "c63f775a29077d88326ae6f063688ea24fd4744bb6810a004c04d9663ba131b5"
   }
  }
 },
 "nbformat": 4,
 "nbformat_minor": 2
}
